{
 "cells": [
  {
   "cell_type": "markdown",
   "metadata": {},
   "source": [
    "## Final Project Submission: Classifying the Drivers of Venezuelan Migration in Colombia\n",
    "\n",
    "* Student name: **Serena Quiroga**\n",
    "* Student pace: **self paced**\n",
    "* Scheduled project review date/time: **January 17, 2020**\n",
    "* Instructor name: **Jeff Herman**\n",
    "* Blog post URL:\n"
   ]
  },
  {
   "cell_type": "markdown",
   "metadata": {},
   "source": [
    "# Project Overview"
   ]
  },
  {
   "cell_type": "markdown",
   "metadata": {},
   "source": [
    "**Problem Statement:** For this project, I have sourced household survey data from the National Administrative Department of Statistics of Colombia (DANE) to use in building a classification model for determining the primary motivation for Venezuelan migrants in Colombia."
   ]
  },
  {
   "cell_type": "markdown",
   "metadata": {},
   "source": [
    "## Project Details:\n",
    "- **Data Used:** Microdata was downloaded from the sites below and merged into a final dataset used for this project. Individual microdata csv files are available in this repo as well.\n",
    "    - 2019 GEIH (*Gran Encuesta Integrada de Hogares* = Grand Integrated Household Survey): http://microdatos.dane.gov.co/index.php/catalog/599/study-description\n",
    "    - 2019 Migration Module of GEIH: http://microdatos.dane.gov.co/index.php/catalog/641/related_materials\n",
    "- **Packages Used:**\n",
    "    - RandomForest\n",
    "    - GridSearchCV\n",
    "    - "
   ]
  },
  {
   "cell_type": "markdown",
   "metadata": {},
   "source": [
    "### Data Dictionary for Final Variables Used"
   ]
  },
  {
   "cell_type": "markdown",
   "metadata": {},
   "source": []
  },
  {
   "cell_type": "markdown",
   "metadata": {},
   "source": [
    "## Project Approach: OSEMiN"
   ]
  },
  {
   "cell_type": "markdown",
   "metadata": {},
   "source": [
    "For this project, I am using the OSEMiN approach - Obtain Scrub Explore Model iNterpret.\n",
    "<img src=\"OSEMiN_approach.png\">"
   ]
  },
  {
   "cell_type": "markdown",
   "metadata": {},
   "source": [
    "**Obtain**: \n",
    "- Data was obtained from the Colombian National Department of Statistics, specifically from the 2019 GEIH survey.\n",
    "- Data was merged into one complete dataset.\n",
    "- Column names were changed to more closely reflect the final variables used.\n",
    "\n",
    "**Scrub**: \n",
    "- The data was sliced to only include a subset of the total data, specifically focused on respondents that originated from Venezuela.\n",
    "\n",
    "**Explore**:\n",
    "- initial exploration was conducted to understand how variables behaved in relation to the target variable\n",
    "- visualizations\n",
    "\n",
    "**Model**:\n",
    "- A baseline classification model was produced\n",
    "- Hyperparameter tuning\n",
    "- GridSearch\n",
    "\n",
    "**Interpret**:\n",
    "- Summary of findings and resulting visualizations."
   ]
  },
  {
   "cell_type": "markdown",
   "metadata": {},
   "source": [
    "## Libraries Used"
   ]
  },
  {
   "cell_type": "code",
   "execution_count": 1,
   "metadata": {
    "ExecuteTime": {
     "end_time": "2020-01-26T10:35:31.636137Z",
     "start_time": "2020-01-26T10:35:29.808037Z"
    }
   },
   "outputs": [],
   "source": [
    "import pandas as pd\n",
    "import numpy as np\n",
    "import matplotlib.pyplot as plt\n",
    "%matplotlib inline\n",
    "import seaborn as sns\n",
    "\n",
    "from sklearn.ensemble import ExtraTreesClassifier\n",
    "\n",
    "import pyreadstat"
   ]
  },
  {
   "cell_type": "code",
   "execution_count": 2,
   "metadata": {
    "ExecuteTime": {
     "end_time": "2020-01-26T10:35:31.642366Z",
     "start_time": "2020-01-26T10:35:31.638970Z"
    }
   },
   "outputs": [],
   "source": [
    "from IPython.core.interactiveshell import InteractiveShell\n",
    "InteractiveShell.ast_node_interactivity = \"all\""
   ]
  },
  {
   "cell_type": "markdown",
   "metadata": {},
   "source": [
    "# Obtain"
   ]
  },
  {
   "cell_type": "markdown",
   "metadata": {},
   "source": [
    "The datasets we are obtaining from DANE are broken apart by Module of the survey and per month.  We will use January 2019 sav data files, retrieving each and then merging on our specific respondents of interest - Venezuelan born respondents.  Of the survey modules, we will use the Migration Module (MM), the General Characteristics/Demographics Module, and the Employment Effort Module from two of the three geographic sample designations - metro area and administrative head of each department surveyed.\n",
    "\n",
    "**GEIH 2019**:\n",
    "**Link to Migration Module (MM) Microdata library:**\n",
    "http://microdatos.dane.gov.co/index.php/catalog/641/get_microdata\n",
    "    - Módulo de Migración = Migration Module\n",
    "\n",
    "**Link to non-MM Modules of the GEIH Survey Microdata libray:** http://microdatos.dane.gov.co/index.php/catalog/599/get_microdata\n",
    "    - Fuerza de Trabajo = Employment Effort\n",
    "    - Caracteristicas Generales Personas = General Personal Characteristics"
   ]
  },
  {
   "cell_type": "markdown",
   "metadata": {},
   "source": [
    "## Import sav files with metadata "
   ]
  },
  {
   "cell_type": "markdown",
   "metadata": {},
   "source": [
    "The individual sav data files can be found in the Data folder of this repo. We will now use `pyreadstat` to read in sav files with their label encodings stored in a meta data container and meta data dictionary."
   ]
  },
  {
   "cell_type": "code",
   "execution_count": 3,
   "metadata": {
    "ExecuteTime": {
     "end_time": "2020-01-26T10:35:32.007153Z",
     "start_time": "2020-01-26T10:35:31.645030Z"
    }
   },
   "outputs": [],
   "source": [
    "# Area - General Personal Characteristics\n",
    "area_cg_df, area_cg_meta = pyreadstat.read_sav('Data/Enero/Area_Caracteristicas_generales_Personas.sav')\n",
    "area_cg_meta_dict = dict(zip(area_cg_meta.column_names, area_cg_meta.column_labels))"
   ]
  },
  {
   "cell_type": "code",
   "execution_count": 4,
   "metadata": {
    "ExecuteTime": {
     "end_time": "2020-01-26T10:35:32.198258Z",
     "start_time": "2020-01-26T10:35:32.009615Z"
    }
   },
   "outputs": [],
   "source": [
    "# Area - Employment Efforts\n",
    "area_ft_df, area_ft_meta = pyreadstat.read_sav('Data/Enero/Area_Fuerza_de_trabajo.sav')\n",
    "area_ft_meta_dict = dict(zip(area_ft_meta.column_names, area_ft_meta.column_labels))"
   ]
  },
  {
   "cell_type": "code",
   "execution_count": 5,
   "metadata": {
    "ExecuteTime": {
     "end_time": "2020-01-26T10:35:32.847887Z",
     "start_time": "2020-01-26T10:35:32.200459Z"
    }
   },
   "outputs": [],
   "source": [
    "# Admin Head - General Personal Characteristics\n",
    "cb_cg_df, cg_meta = pyreadstat.read_sav('Data/Enero/Cabecera_Caracteristicas_generales_Personas.sav')\n",
    "cb_cg_meta_dict = dict(zip(cg_meta.column_names, cg_meta.column_labels))"
   ]
  },
  {
   "cell_type": "code",
   "execution_count": 6,
   "metadata": {
    "ExecuteTime": {
     "end_time": "2020-01-26T10:35:33.216075Z",
     "start_time": "2020-01-26T10:35:32.850308Z"
    }
   },
   "outputs": [],
   "source": [
    "# Admin Head - Employment Efforts\n",
    "cb_ft_df, cg_ft_meta = pyreadstat.read_sav('Data/Enero/Cabecera_Fuerza_de_trabajo.sav')\n",
    "cb_ft_meta_dict = dict(zip(cg_ft_meta.column_names, cg_ft_meta.column_labels))"
   ]
  },
  {
   "cell_type": "code",
   "execution_count": 7,
   "metadata": {
    "ExecuteTime": {
     "end_time": "2020-01-26T10:35:33.539715Z",
     "start_time": "2020-01-26T10:35:33.218111Z"
    }
   },
   "outputs": [],
   "source": [
    "# Migration Module\n",
    "mm_df, mm_meta = pyreadstat.read_sav('Data/Enero/Enero_MM.sav')\n",
    "mm_meta_dict = dict(zip(mm_meta.column_names, mm_meta.column_labels))"
   ]
  },
  {
   "cell_type": "code",
   "execution_count": 8,
   "metadata": {
    "ExecuteTime": {
     "end_time": "2020-01-26T10:35:33.549882Z",
     "start_time": "2020-01-26T10:35:33.543597Z"
    },
    "scrolled": true
   },
   "outputs": [
    {
     "data": {
      "text/plain": [
       "{'Directorio': 'DIRECTORIO',\n",
       " 'Secuencia_p': 'SECUENCIA_P',\n",
       " 'Orden': 'ORDEN',\n",
       " 'P6074': '¿…….. siempre ha vivido en este  municipio?',\n",
       " 'P756': 'Dónde nació…..:',\n",
       " 'P756S1': 'En otro Municipio: Departamento:____________________',\n",
       " 'P756S3': 'En otro país:',\n",
       " 'P755': '¿Dónde vivía …. , hace cinco años?',\n",
       " 'P755S1': '¿Dónde vivía …. , hace cinco años? Departamento:',\n",
       " 'P755S3': '¿Dónde vivía …. , hace cinco años?  En otro pais',\n",
       " 'P754': 'El lugar donde vivía ……. hace cinco años era:',\n",
       " 'P753': '¿Dónde vivía …. , hace 12 meses?',\n",
       " 'P753S1': '¿Dónde vivía …. , hace 12 meses? Departamento:',\n",
       " 'P753S3': '¿Dónde vivía …. , hace 12 meses? En otro pais',\n",
       " 'P752': 'El lugar donde vivía ……. hace 12 meses era:',\n",
       " 'P1662': '¿Cuál fue el principal motivo por el que …. Cambió el lugar donde residia hace 12 meses?',\n",
       " 'Mes': 'Mes',\n",
       " 'Fex_c_2011': 'Factor de expansión'}"
      ]
     },
     "execution_count": 8,
     "metadata": {},
     "output_type": "execute_result"
    }
   ],
   "source": [
    "mm_meta_dict"
   ]
  },
  {
   "cell_type": "code",
   "execution_count": 9,
   "metadata": {
    "ExecuteTime": {
     "end_time": "2020-01-26T10:35:33.713419Z",
     "start_time": "2020-01-26T10:35:33.553164Z"
    }
   },
   "outputs": [
    {
     "data": {
      "text/plain": [
       "(29676, 37)"
      ]
     },
     "execution_count": 9,
     "metadata": {},
     "output_type": "execute_result"
    },
    {
     "data": {
      "text/html": [
       "<div>\n",
       "<style scoped>\n",
       "    .dataframe tbody tr th:only-of-type {\n",
       "        vertical-align: middle;\n",
       "    }\n",
       "\n",
       "    .dataframe tbody tr th {\n",
       "        vertical-align: top;\n",
       "    }\n",
       "\n",
       "    .dataframe thead th {\n",
       "        text-align: right;\n",
       "    }\n",
       "</style>\n",
       "<table border=\"1\" class=\"dataframe\">\n",
       "  <thead>\n",
       "    <tr style=\"text-align: right;\">\n",
       "      <th></th>\n",
       "      <th>DIRECTORIO</th>\n",
       "      <th>SECUENCIA_P</th>\n",
       "      <th>ORDEN</th>\n",
       "      <th>HOGAR</th>\n",
       "      <th>REGIS</th>\n",
       "      <th>P6016</th>\n",
       "      <th>P6020</th>\n",
       "      <th>P6030S1</th>\n",
       "      <th>P6030S3</th>\n",
       "      <th>P6040</th>\n",
       "      <th>...</th>\n",
       "      <th>P6175</th>\n",
       "      <th>P6210</th>\n",
       "      <th>P6210S1</th>\n",
       "      <th>P6220</th>\n",
       "      <th>P6269</th>\n",
       "      <th>AREA</th>\n",
       "      <th>ESC</th>\n",
       "      <th>MES</th>\n",
       "      <th>DPTO</th>\n",
       "      <th>fex_c_2011</th>\n",
       "    </tr>\n",
       "  </thead>\n",
       "  <tbody>\n",
       "    <tr>\n",
       "      <td>0</td>\n",
       "      <td>4804535.0</td>\n",
       "      <td>1.0</td>\n",
       "      <td>1.0</td>\n",
       "      <td>1.0</td>\n",
       "      <td>10</td>\n",
       "      <td>1.0</td>\n",
       "      <td>2.0</td>\n",
       "      <td>5.0</td>\n",
       "      <td>1948.0</td>\n",
       "      <td>70.0</td>\n",
       "      <td>...</td>\n",
       "      <td>NaN</td>\n",
       "      <td>3.0</td>\n",
       "      <td>1.0</td>\n",
       "      <td>NaN</td>\n",
       "      <td>NaN</td>\n",
       "      <td>05</td>\n",
       "      <td>1.0</td>\n",
       "      <td>01</td>\n",
       "      <td>05</td>\n",
       "      <td>930.626305</td>\n",
       "    </tr>\n",
       "    <tr>\n",
       "      <td>1</td>\n",
       "      <td>4804535.0</td>\n",
       "      <td>1.0</td>\n",
       "      <td>2.0</td>\n",
       "      <td>1.0</td>\n",
       "      <td>10</td>\n",
       "      <td>2.0</td>\n",
       "      <td>1.0</td>\n",
       "      <td>9.0</td>\n",
       "      <td>1980.0</td>\n",
       "      <td>38.0</td>\n",
       "      <td>...</td>\n",
       "      <td>NaN</td>\n",
       "      <td>3.0</td>\n",
       "      <td>3.0</td>\n",
       "      <td>NaN</td>\n",
       "      <td>NaN</td>\n",
       "      <td>05</td>\n",
       "      <td>3.0</td>\n",
       "      <td>01</td>\n",
       "      <td>05</td>\n",
       "      <td>930.626305</td>\n",
       "    </tr>\n",
       "    <tr>\n",
       "      <td>2</td>\n",
       "      <td>4804535.0</td>\n",
       "      <td>1.0</td>\n",
       "      <td>3.0</td>\n",
       "      <td>1.0</td>\n",
       "      <td>10</td>\n",
       "      <td>3.0</td>\n",
       "      <td>2.0</td>\n",
       "      <td>8.0</td>\n",
       "      <td>1995.0</td>\n",
       "      <td>23.0</td>\n",
       "      <td>...</td>\n",
       "      <td>NaN</td>\n",
       "      <td>5.0</td>\n",
       "      <td>11.0</td>\n",
       "      <td>2.0</td>\n",
       "      <td>NaN</td>\n",
       "      <td>05</td>\n",
       "      <td>11.0</td>\n",
       "      <td>01</td>\n",
       "      <td>05</td>\n",
       "      <td>930.626305</td>\n",
       "    </tr>\n",
       "    <tr>\n",
       "      <td>3</td>\n",
       "      <td>4804536.0</td>\n",
       "      <td>1.0</td>\n",
       "      <td>1.0</td>\n",
       "      <td>1.0</td>\n",
       "      <td>10</td>\n",
       "      <td>1.0</td>\n",
       "      <td>2.0</td>\n",
       "      <td>8.0</td>\n",
       "      <td>1997.0</td>\n",
       "      <td>21.0</td>\n",
       "      <td>...</td>\n",
       "      <td>NaN</td>\n",
       "      <td>5.0</td>\n",
       "      <td>11.0</td>\n",
       "      <td>2.0</td>\n",
       "      <td>NaN</td>\n",
       "      <td>05</td>\n",
       "      <td>11.0</td>\n",
       "      <td>01</td>\n",
       "      <td>05</td>\n",
       "      <td>1097.211116</td>\n",
       "    </tr>\n",
       "    <tr>\n",
       "      <td>4</td>\n",
       "      <td>4804536.0</td>\n",
       "      <td>1.0</td>\n",
       "      <td>2.0</td>\n",
       "      <td>1.0</td>\n",
       "      <td>10</td>\n",
       "      <td>1.0</td>\n",
       "      <td>2.0</td>\n",
       "      <td>10.0</td>\n",
       "      <td>2014.0</td>\n",
       "      <td>4.0</td>\n",
       "      <td>...</td>\n",
       "      <td>1.0</td>\n",
       "      <td>2.0</td>\n",
       "      <td>0.0</td>\n",
       "      <td>NaN</td>\n",
       "      <td>NaN</td>\n",
       "      <td>05</td>\n",
       "      <td>0.0</td>\n",
       "      <td>01</td>\n",
       "      <td>05</td>\n",
       "      <td>1097.211116</td>\n",
       "    </tr>\n",
       "  </tbody>\n",
       "</table>\n",
       "<p>5 rows × 37 columns</p>\n",
       "</div>"
      ],
      "text/plain": [
       "   DIRECTORIO  SECUENCIA_P  ORDEN  HOGAR REGIS  P6016  P6020  P6030S1  \\\n",
       "0   4804535.0          1.0    1.0    1.0    10    1.0    2.0      5.0   \n",
       "1   4804535.0          1.0    2.0    1.0    10    2.0    1.0      9.0   \n",
       "2   4804535.0          1.0    3.0    1.0    10    3.0    2.0      8.0   \n",
       "3   4804536.0          1.0    1.0    1.0    10    1.0    2.0      8.0   \n",
       "4   4804536.0          1.0    2.0    1.0    10    1.0    2.0     10.0   \n",
       "\n",
       "   P6030S3  P6040  ...  P6175  P6210  P6210S1  P6220  P6269  AREA   ESC  MES  \\\n",
       "0   1948.0   70.0  ...    NaN    3.0      1.0    NaN    NaN    05   1.0   01   \n",
       "1   1980.0   38.0  ...    NaN    3.0      3.0    NaN    NaN    05   3.0   01   \n",
       "2   1995.0   23.0  ...    NaN    5.0     11.0    2.0    NaN    05  11.0   01   \n",
       "3   1997.0   21.0  ...    NaN    5.0     11.0    2.0    NaN    05  11.0   01   \n",
       "4   2014.0    4.0  ...    1.0    2.0      0.0    NaN    NaN    05   0.0   01   \n",
       "\n",
       "   DPTO   fex_c_2011  \n",
       "0    05   930.626305  \n",
       "1    05   930.626305  \n",
       "2    05   930.626305  \n",
       "3    05  1097.211116  \n",
       "4    05  1097.211116  \n",
       "\n",
       "[5 rows x 37 columns]"
      ]
     },
     "execution_count": 9,
     "metadata": {},
     "output_type": "execute_result"
    },
    {
     "data": {
      "text/plain": [
       "(24955, 27)"
      ]
     },
     "execution_count": 9,
     "metadata": {},
     "output_type": "execute_result"
    },
    {
     "data": {
      "text/html": [
       "<div>\n",
       "<style scoped>\n",
       "    .dataframe tbody tr th:only-of-type {\n",
       "        vertical-align: middle;\n",
       "    }\n",
       "\n",
       "    .dataframe tbody tr th {\n",
       "        vertical-align: top;\n",
       "    }\n",
       "\n",
       "    .dataframe thead th {\n",
       "        text-align: right;\n",
       "    }\n",
       "</style>\n",
       "<table border=\"1\" class=\"dataframe\">\n",
       "  <thead>\n",
       "    <tr style=\"text-align: right;\">\n",
       "      <th></th>\n",
       "      <th>DIRECTORIO</th>\n",
       "      <th>SECUENCIA_P</th>\n",
       "      <th>ORDEN</th>\n",
       "      <th>HOGAR</th>\n",
       "      <th>REGIS</th>\n",
       "      <th>AREA</th>\n",
       "      <th>P6290</th>\n",
       "      <th>P6290S1</th>\n",
       "      <th>P6230</th>\n",
       "      <th>P6240</th>\n",
       "      <th>...</th>\n",
       "      <th>P6310S1</th>\n",
       "      <th>P6320</th>\n",
       "      <th>P6330</th>\n",
       "      <th>P6340</th>\n",
       "      <th>P6350</th>\n",
       "      <th>P6351</th>\n",
       "      <th>MES</th>\n",
       "      <th>FT</th>\n",
       "      <th>DPTO</th>\n",
       "      <th>fex_c_2011</th>\n",
       "    </tr>\n",
       "  </thead>\n",
       "  <tbody>\n",
       "    <tr>\n",
       "      <td>0</td>\n",
       "      <td>4804535.0</td>\n",
       "      <td>1.0</td>\n",
       "      <td>1.0</td>\n",
       "      <td>1.0</td>\n",
       "      <td>50</td>\n",
       "      <td>05</td>\n",
       "      <td>NaN</td>\n",
       "      <td></td>\n",
       "      <td>1.0</td>\n",
       "      <td>4.0</td>\n",
       "      <td>...</td>\n",
       "      <td></td>\n",
       "      <td>NaN</td>\n",
       "      <td>NaN</td>\n",
       "      <td>NaN</td>\n",
       "      <td>NaN</td>\n",
       "      <td>NaN</td>\n",
       "      <td>01</td>\n",
       "      <td>1.0</td>\n",
       "      <td>05</td>\n",
       "      <td>930.626305</td>\n",
       "    </tr>\n",
       "    <tr>\n",
       "      <td>1</td>\n",
       "      <td>4804535.0</td>\n",
       "      <td>1.0</td>\n",
       "      <td>2.0</td>\n",
       "      <td>1.0</td>\n",
       "      <td>50</td>\n",
       "      <td>05</td>\n",
       "      <td>NaN</td>\n",
       "      <td></td>\n",
       "      <td>2.0</td>\n",
       "      <td>1.0</td>\n",
       "      <td>...</td>\n",
       "      <td></td>\n",
       "      <td>NaN</td>\n",
       "      <td>NaN</td>\n",
       "      <td>NaN</td>\n",
       "      <td>NaN</td>\n",
       "      <td>NaN</td>\n",
       "      <td>01</td>\n",
       "      <td>1.0</td>\n",
       "      <td>05</td>\n",
       "      <td>930.626305</td>\n",
       "    </tr>\n",
       "    <tr>\n",
       "      <td>2</td>\n",
       "      <td>4804535.0</td>\n",
       "      <td>1.0</td>\n",
       "      <td>3.0</td>\n",
       "      <td>1.0</td>\n",
       "      <td>50</td>\n",
       "      <td>05</td>\n",
       "      <td>NaN</td>\n",
       "      <td></td>\n",
       "      <td>3.0</td>\n",
       "      <td>1.0</td>\n",
       "      <td>...</td>\n",
       "      <td></td>\n",
       "      <td>NaN</td>\n",
       "      <td>NaN</td>\n",
       "      <td>NaN</td>\n",
       "      <td>NaN</td>\n",
       "      <td>NaN</td>\n",
       "      <td>01</td>\n",
       "      <td>1.0</td>\n",
       "      <td>05</td>\n",
       "      <td>930.626305</td>\n",
       "    </tr>\n",
       "    <tr>\n",
       "      <td>3</td>\n",
       "      <td>4804536.0</td>\n",
       "      <td>1.0</td>\n",
       "      <td>1.0</td>\n",
       "      <td>1.0</td>\n",
       "      <td>50</td>\n",
       "      <td>05</td>\n",
       "      <td>NaN</td>\n",
       "      <td></td>\n",
       "      <td>1.0</td>\n",
       "      <td>1.0</td>\n",
       "      <td>...</td>\n",
       "      <td></td>\n",
       "      <td>NaN</td>\n",
       "      <td>NaN</td>\n",
       "      <td>NaN</td>\n",
       "      <td>NaN</td>\n",
       "      <td>NaN</td>\n",
       "      <td>01</td>\n",
       "      <td>1.0</td>\n",
       "      <td>05</td>\n",
       "      <td>1097.211116</td>\n",
       "    </tr>\n",
       "    <tr>\n",
       "      <td>4</td>\n",
       "      <td>4804537.0</td>\n",
       "      <td>1.0</td>\n",
       "      <td>1.0</td>\n",
       "      <td>1.0</td>\n",
       "      <td>50</td>\n",
       "      <td>05</td>\n",
       "      <td>NaN</td>\n",
       "      <td></td>\n",
       "      <td>1.0</td>\n",
       "      <td>1.0</td>\n",
       "      <td>...</td>\n",
       "      <td></td>\n",
       "      <td>NaN</td>\n",
       "      <td>NaN</td>\n",
       "      <td>NaN</td>\n",
       "      <td>NaN</td>\n",
       "      <td>NaN</td>\n",
       "      <td>01</td>\n",
       "      <td>1.0</td>\n",
       "      <td>05</td>\n",
       "      <td>827.297496</td>\n",
       "    </tr>\n",
       "  </tbody>\n",
       "</table>\n",
       "<p>5 rows × 27 columns</p>\n",
       "</div>"
      ],
      "text/plain": [
       "   DIRECTORIO  SECUENCIA_P  ORDEN  HOGAR REGIS AREA  P6290 P6290S1  P6230  \\\n",
       "0   4804535.0          1.0    1.0    1.0    50   05    NaN            1.0   \n",
       "1   4804535.0          1.0    2.0    1.0    50   05    NaN            2.0   \n",
       "2   4804535.0          1.0    3.0    1.0    50   05    NaN            3.0   \n",
       "3   4804536.0          1.0    1.0    1.0    50   05    NaN            1.0   \n",
       "4   4804537.0          1.0    1.0    1.0    50   05    NaN            1.0   \n",
       "\n",
       "   P6240  ... P6310S1  P6320  P6330  P6340  P6350  P6351  MES   FT  DPTO  \\\n",
       "0    4.0  ...            NaN    NaN    NaN    NaN    NaN   01  1.0    05   \n",
       "1    1.0  ...            NaN    NaN    NaN    NaN    NaN   01  1.0    05   \n",
       "2    1.0  ...            NaN    NaN    NaN    NaN    NaN   01  1.0    05   \n",
       "3    1.0  ...            NaN    NaN    NaN    NaN    NaN   01  1.0    05   \n",
       "4    1.0  ...            NaN    NaN    NaN    NaN    NaN   01  1.0    05   \n",
       "\n",
       "    fex_c_2011  \n",
       "0   930.626305  \n",
       "1   930.626305  \n",
       "2   930.626305  \n",
       "3  1097.211116  \n",
       "4   827.297496  \n",
       "\n",
       "[5 rows x 27 columns]"
      ]
     },
     "execution_count": 9,
     "metadata": {},
     "output_type": "execute_result"
    },
    {
     "data": {
      "text/plain": [
       "(56644, 38)"
      ]
     },
     "execution_count": 9,
     "metadata": {},
     "output_type": "execute_result"
    },
    {
     "data": {
      "text/html": [
       "<div>\n",
       "<style scoped>\n",
       "    .dataframe tbody tr th:only-of-type {\n",
       "        vertical-align: middle;\n",
       "    }\n",
       "\n",
       "    .dataframe tbody tr th {\n",
       "        vertical-align: top;\n",
       "    }\n",
       "\n",
       "    .dataframe thead th {\n",
       "        text-align: right;\n",
       "    }\n",
       "</style>\n",
       "<table border=\"1\" class=\"dataframe\">\n",
       "  <thead>\n",
       "    <tr style=\"text-align: right;\">\n",
       "      <th></th>\n",
       "      <th>DIRECTORIO</th>\n",
       "      <th>SECUENCIA_P</th>\n",
       "      <th>ORDEN</th>\n",
       "      <th>HOGAR</th>\n",
       "      <th>REGIS</th>\n",
       "      <th>P6016</th>\n",
       "      <th>P6020</th>\n",
       "      <th>P6030S1</th>\n",
       "      <th>P6030S3</th>\n",
       "      <th>P6040</th>\n",
       "      <th>...</th>\n",
       "      <th>P6210</th>\n",
       "      <th>P6210S1</th>\n",
       "      <th>P6220</th>\n",
       "      <th>P6269</th>\n",
       "      <th>CLASE</th>\n",
       "      <th>ESC</th>\n",
       "      <th>MES</th>\n",
       "      <th>DPTO</th>\n",
       "      <th>fex_c_2011</th>\n",
       "      <th>AREA</th>\n",
       "    </tr>\n",
       "  </thead>\n",
       "  <tbody>\n",
       "    <tr>\n",
       "      <td>0</td>\n",
       "      <td>4804535.0</td>\n",
       "      <td>1.0</td>\n",
       "      <td>1.0</td>\n",
       "      <td>1.0</td>\n",
       "      <td>10</td>\n",
       "      <td>1.0</td>\n",
       "      <td>2.0</td>\n",
       "      <td>5.0</td>\n",
       "      <td>1948.0</td>\n",
       "      <td>70.0</td>\n",
       "      <td>...</td>\n",
       "      <td>3.0</td>\n",
       "      <td>1.0</td>\n",
       "      <td>NaN</td>\n",
       "      <td>NaN</td>\n",
       "      <td>1</td>\n",
       "      <td>1.0</td>\n",
       "      <td>01</td>\n",
       "      <td>05</td>\n",
       "      <td>930.626305</td>\n",
       "      <td>05</td>\n",
       "    </tr>\n",
       "    <tr>\n",
       "      <td>1</td>\n",
       "      <td>4804535.0</td>\n",
       "      <td>1.0</td>\n",
       "      <td>2.0</td>\n",
       "      <td>1.0</td>\n",
       "      <td>10</td>\n",
       "      <td>2.0</td>\n",
       "      <td>1.0</td>\n",
       "      <td>9.0</td>\n",
       "      <td>1980.0</td>\n",
       "      <td>38.0</td>\n",
       "      <td>...</td>\n",
       "      <td>3.0</td>\n",
       "      <td>3.0</td>\n",
       "      <td>NaN</td>\n",
       "      <td>NaN</td>\n",
       "      <td>1</td>\n",
       "      <td>3.0</td>\n",
       "      <td>01</td>\n",
       "      <td>05</td>\n",
       "      <td>930.626305</td>\n",
       "      <td>05</td>\n",
       "    </tr>\n",
       "    <tr>\n",
       "      <td>2</td>\n",
       "      <td>4804535.0</td>\n",
       "      <td>1.0</td>\n",
       "      <td>3.0</td>\n",
       "      <td>1.0</td>\n",
       "      <td>10</td>\n",
       "      <td>3.0</td>\n",
       "      <td>2.0</td>\n",
       "      <td>8.0</td>\n",
       "      <td>1995.0</td>\n",
       "      <td>23.0</td>\n",
       "      <td>...</td>\n",
       "      <td>5.0</td>\n",
       "      <td>11.0</td>\n",
       "      <td>2.0</td>\n",
       "      <td>NaN</td>\n",
       "      <td>1</td>\n",
       "      <td>11.0</td>\n",
       "      <td>01</td>\n",
       "      <td>05</td>\n",
       "      <td>930.626305</td>\n",
       "      <td>05</td>\n",
       "    </tr>\n",
       "    <tr>\n",
       "      <td>3</td>\n",
       "      <td>4804536.0</td>\n",
       "      <td>1.0</td>\n",
       "      <td>1.0</td>\n",
       "      <td>1.0</td>\n",
       "      <td>10</td>\n",
       "      <td>1.0</td>\n",
       "      <td>2.0</td>\n",
       "      <td>8.0</td>\n",
       "      <td>1997.0</td>\n",
       "      <td>21.0</td>\n",
       "      <td>...</td>\n",
       "      <td>5.0</td>\n",
       "      <td>11.0</td>\n",
       "      <td>2.0</td>\n",
       "      <td>NaN</td>\n",
       "      <td>1</td>\n",
       "      <td>11.0</td>\n",
       "      <td>01</td>\n",
       "      <td>05</td>\n",
       "      <td>1097.211116</td>\n",
       "      <td>05</td>\n",
       "    </tr>\n",
       "    <tr>\n",
       "      <td>4</td>\n",
       "      <td>4804536.0</td>\n",
       "      <td>1.0</td>\n",
       "      <td>2.0</td>\n",
       "      <td>1.0</td>\n",
       "      <td>10</td>\n",
       "      <td>1.0</td>\n",
       "      <td>2.0</td>\n",
       "      <td>10.0</td>\n",
       "      <td>2014.0</td>\n",
       "      <td>4.0</td>\n",
       "      <td>...</td>\n",
       "      <td>2.0</td>\n",
       "      <td>0.0</td>\n",
       "      <td>NaN</td>\n",
       "      <td>NaN</td>\n",
       "      <td>1</td>\n",
       "      <td>0.0</td>\n",
       "      <td>01</td>\n",
       "      <td>05</td>\n",
       "      <td>1097.211116</td>\n",
       "      <td>05</td>\n",
       "    </tr>\n",
       "  </tbody>\n",
       "</table>\n",
       "<p>5 rows × 38 columns</p>\n",
       "</div>"
      ],
      "text/plain": [
       "   DIRECTORIO  SECUENCIA_P  ORDEN  HOGAR REGIS  P6016  P6020  P6030S1  \\\n",
       "0   4804535.0          1.0    1.0    1.0    10    1.0    2.0      5.0   \n",
       "1   4804535.0          1.0    2.0    1.0    10    2.0    1.0      9.0   \n",
       "2   4804535.0          1.0    3.0    1.0    10    3.0    2.0      8.0   \n",
       "3   4804536.0          1.0    1.0    1.0    10    1.0    2.0      8.0   \n",
       "4   4804536.0          1.0    2.0    1.0    10    1.0    2.0     10.0   \n",
       "\n",
       "   P6030S3  P6040  ...  P6210  P6210S1  P6220  P6269  CLASE   ESC  MES  DPTO  \\\n",
       "0   1948.0   70.0  ...    3.0      1.0    NaN    NaN      1   1.0   01    05   \n",
       "1   1980.0   38.0  ...    3.0      3.0    NaN    NaN      1   3.0   01    05   \n",
       "2   1995.0   23.0  ...    5.0     11.0    2.0    NaN      1  11.0   01    05   \n",
       "3   1997.0   21.0  ...    5.0     11.0    2.0    NaN      1  11.0   01    05   \n",
       "4   2014.0    4.0  ...    2.0      0.0    NaN    NaN      1   0.0   01    05   \n",
       "\n",
       "    fex_c_2011  AREA  \n",
       "0   930.626305    05  \n",
       "1   930.626305    05  \n",
       "2   930.626305    05  \n",
       "3  1097.211116    05  \n",
       "4  1097.211116    05  \n",
       "\n",
       "[5 rows x 38 columns]"
      ]
     },
     "execution_count": 9,
     "metadata": {},
     "output_type": "execute_result"
    },
    {
     "data": {
      "text/plain": [
       "(46815, 28)"
      ]
     },
     "execution_count": 9,
     "metadata": {},
     "output_type": "execute_result"
    },
    {
     "data": {
      "text/html": [
       "<div>\n",
       "<style scoped>\n",
       "    .dataframe tbody tr th:only-of-type {\n",
       "        vertical-align: middle;\n",
       "    }\n",
       "\n",
       "    .dataframe tbody tr th {\n",
       "        vertical-align: top;\n",
       "    }\n",
       "\n",
       "    .dataframe thead th {\n",
       "        text-align: right;\n",
       "    }\n",
       "</style>\n",
       "<table border=\"1\" class=\"dataframe\">\n",
       "  <thead>\n",
       "    <tr style=\"text-align: right;\">\n",
       "      <th></th>\n",
       "      <th>DIRECTORIO</th>\n",
       "      <th>SECUENCIA_P</th>\n",
       "      <th>ORDEN</th>\n",
       "      <th>HOGAR</th>\n",
       "      <th>REGIS</th>\n",
       "      <th>AREA</th>\n",
       "      <th>CLASE</th>\n",
       "      <th>P6290</th>\n",
       "      <th>P6290S1</th>\n",
       "      <th>P6230</th>\n",
       "      <th>...</th>\n",
       "      <th>P6310S1</th>\n",
       "      <th>P6320</th>\n",
       "      <th>P6330</th>\n",
       "      <th>P6340</th>\n",
       "      <th>P6350</th>\n",
       "      <th>P6351</th>\n",
       "      <th>MES</th>\n",
       "      <th>FT</th>\n",
       "      <th>DPTO</th>\n",
       "      <th>fex_c_2011</th>\n",
       "    </tr>\n",
       "  </thead>\n",
       "  <tbody>\n",
       "    <tr>\n",
       "      <td>0</td>\n",
       "      <td>4804535.0</td>\n",
       "      <td>1.0</td>\n",
       "      <td>1.0</td>\n",
       "      <td>1.0</td>\n",
       "      <td>50</td>\n",
       "      <td>05</td>\n",
       "      <td>1</td>\n",
       "      <td>NaN</td>\n",
       "      <td></td>\n",
       "      <td>1.0</td>\n",
       "      <td>...</td>\n",
       "      <td></td>\n",
       "      <td>NaN</td>\n",
       "      <td>NaN</td>\n",
       "      <td>NaN</td>\n",
       "      <td>NaN</td>\n",
       "      <td>NaN</td>\n",
       "      <td>01</td>\n",
       "      <td>1.0</td>\n",
       "      <td>05</td>\n",
       "      <td>930.626305</td>\n",
       "    </tr>\n",
       "    <tr>\n",
       "      <td>1</td>\n",
       "      <td>4804535.0</td>\n",
       "      <td>1.0</td>\n",
       "      <td>2.0</td>\n",
       "      <td>1.0</td>\n",
       "      <td>50</td>\n",
       "      <td>05</td>\n",
       "      <td>1</td>\n",
       "      <td>NaN</td>\n",
       "      <td></td>\n",
       "      <td>2.0</td>\n",
       "      <td>...</td>\n",
       "      <td></td>\n",
       "      <td>NaN</td>\n",
       "      <td>NaN</td>\n",
       "      <td>NaN</td>\n",
       "      <td>NaN</td>\n",
       "      <td>NaN</td>\n",
       "      <td>01</td>\n",
       "      <td>1.0</td>\n",
       "      <td>05</td>\n",
       "      <td>930.626305</td>\n",
       "    </tr>\n",
       "    <tr>\n",
       "      <td>2</td>\n",
       "      <td>4804535.0</td>\n",
       "      <td>1.0</td>\n",
       "      <td>3.0</td>\n",
       "      <td>1.0</td>\n",
       "      <td>50</td>\n",
       "      <td>05</td>\n",
       "      <td>1</td>\n",
       "      <td>NaN</td>\n",
       "      <td></td>\n",
       "      <td>3.0</td>\n",
       "      <td>...</td>\n",
       "      <td></td>\n",
       "      <td>NaN</td>\n",
       "      <td>NaN</td>\n",
       "      <td>NaN</td>\n",
       "      <td>NaN</td>\n",
       "      <td>NaN</td>\n",
       "      <td>01</td>\n",
       "      <td>1.0</td>\n",
       "      <td>05</td>\n",
       "      <td>930.626305</td>\n",
       "    </tr>\n",
       "    <tr>\n",
       "      <td>3</td>\n",
       "      <td>4804536.0</td>\n",
       "      <td>1.0</td>\n",
       "      <td>1.0</td>\n",
       "      <td>1.0</td>\n",
       "      <td>50</td>\n",
       "      <td>05</td>\n",
       "      <td>1</td>\n",
       "      <td>NaN</td>\n",
       "      <td></td>\n",
       "      <td>1.0</td>\n",
       "      <td>...</td>\n",
       "      <td></td>\n",
       "      <td>NaN</td>\n",
       "      <td>NaN</td>\n",
       "      <td>NaN</td>\n",
       "      <td>NaN</td>\n",
       "      <td>NaN</td>\n",
       "      <td>01</td>\n",
       "      <td>1.0</td>\n",
       "      <td>05</td>\n",
       "      <td>1097.211116</td>\n",
       "    </tr>\n",
       "    <tr>\n",
       "      <td>4</td>\n",
       "      <td>4804537.0</td>\n",
       "      <td>1.0</td>\n",
       "      <td>1.0</td>\n",
       "      <td>1.0</td>\n",
       "      <td>50</td>\n",
       "      <td>05</td>\n",
       "      <td>1</td>\n",
       "      <td>NaN</td>\n",
       "      <td></td>\n",
       "      <td>1.0</td>\n",
       "      <td>...</td>\n",
       "      <td></td>\n",
       "      <td>NaN</td>\n",
       "      <td>NaN</td>\n",
       "      <td>NaN</td>\n",
       "      <td>NaN</td>\n",
       "      <td>NaN</td>\n",
       "      <td>01</td>\n",
       "      <td>1.0</td>\n",
       "      <td>05</td>\n",
       "      <td>827.297496</td>\n",
       "    </tr>\n",
       "  </tbody>\n",
       "</table>\n",
       "<p>5 rows × 28 columns</p>\n",
       "</div>"
      ],
      "text/plain": [
       "   DIRECTORIO  SECUENCIA_P  ORDEN  HOGAR REGIS AREA CLASE  P6290 P6290S1  \\\n",
       "0   4804535.0          1.0    1.0    1.0    50   05     1    NaN           \n",
       "1   4804535.0          1.0    2.0    1.0    50   05     1    NaN           \n",
       "2   4804535.0          1.0    3.0    1.0    50   05     1    NaN           \n",
       "3   4804536.0          1.0    1.0    1.0    50   05     1    NaN           \n",
       "4   4804537.0          1.0    1.0    1.0    50   05     1    NaN           \n",
       "\n",
       "   P6230  ...  P6310S1 P6320  P6330  P6340  P6350  P6351  MES   FT DPTO  \\\n",
       "0    1.0  ...            NaN    NaN    NaN    NaN    NaN   01  1.0   05   \n",
       "1    2.0  ...            NaN    NaN    NaN    NaN    NaN   01  1.0   05   \n",
       "2    3.0  ...            NaN    NaN    NaN    NaN    NaN   01  1.0   05   \n",
       "3    1.0  ...            NaN    NaN    NaN    NaN    NaN   01  1.0   05   \n",
       "4    1.0  ...            NaN    NaN    NaN    NaN    NaN   01  1.0   05   \n",
       "\n",
       "    fex_c_2011  \n",
       "0   930.626305  \n",
       "1   930.626305  \n",
       "2   930.626305  \n",
       "3  1097.211116  \n",
       "4   827.297496  \n",
       "\n",
       "[5 rows x 28 columns]"
      ]
     },
     "execution_count": 9,
     "metadata": {},
     "output_type": "execute_result"
    },
    {
     "data": {
      "text/plain": [
       "(62538, 18)"
      ]
     },
     "execution_count": 9,
     "metadata": {},
     "output_type": "execute_result"
    },
    {
     "data": {
      "text/html": [
       "<div>\n",
       "<style scoped>\n",
       "    .dataframe tbody tr th:only-of-type {\n",
       "        vertical-align: middle;\n",
       "    }\n",
       "\n",
       "    .dataframe tbody tr th {\n",
       "        vertical-align: top;\n",
       "    }\n",
       "\n",
       "    .dataframe thead th {\n",
       "        text-align: right;\n",
       "    }\n",
       "</style>\n",
       "<table border=\"1\" class=\"dataframe\">\n",
       "  <thead>\n",
       "    <tr style=\"text-align: right;\">\n",
       "      <th></th>\n",
       "      <th>Directorio</th>\n",
       "      <th>Secuencia_p</th>\n",
       "      <th>Orden</th>\n",
       "      <th>P6074</th>\n",
       "      <th>P756</th>\n",
       "      <th>P756S1</th>\n",
       "      <th>P756S3</th>\n",
       "      <th>P755</th>\n",
       "      <th>P755S1</th>\n",
       "      <th>P755S3</th>\n",
       "      <th>P754</th>\n",
       "      <th>P753</th>\n",
       "      <th>P753S1</th>\n",
       "      <th>P753S3</th>\n",
       "      <th>P752</th>\n",
       "      <th>P1662</th>\n",
       "      <th>Mes</th>\n",
       "      <th>Fex_c_2011</th>\n",
       "    </tr>\n",
       "  </thead>\n",
       "  <tbody>\n",
       "    <tr>\n",
       "      <td>0</td>\n",
       "      <td>4804535.0</td>\n",
       "      <td>1.0</td>\n",
       "      <td>1.0</td>\n",
       "      <td>1.0</td>\n",
       "      <td>2.0</td>\n",
       "      <td>5</td>\n",
       "      <td>NaN</td>\n",
       "      <td>2.0</td>\n",
       "      <td></td>\n",
       "      <td>NaN</td>\n",
       "      <td>1.0</td>\n",
       "      <td>2.0</td>\n",
       "      <td></td>\n",
       "      <td>NaN</td>\n",
       "      <td>1.0</td>\n",
       "      <td>NaN</td>\n",
       "      <td>01</td>\n",
       "      <td>930.626305</td>\n",
       "    </tr>\n",
       "    <tr>\n",
       "      <td>1</td>\n",
       "      <td>4804535.0</td>\n",
       "      <td>1.0</td>\n",
       "      <td>2.0</td>\n",
       "      <td>1.0</td>\n",
       "      <td>1.0</td>\n",
       "      <td></td>\n",
       "      <td>NaN</td>\n",
       "      <td>2.0</td>\n",
       "      <td></td>\n",
       "      <td>NaN</td>\n",
       "      <td>1.0</td>\n",
       "      <td>2.0</td>\n",
       "      <td></td>\n",
       "      <td>NaN</td>\n",
       "      <td>1.0</td>\n",
       "      <td>NaN</td>\n",
       "      <td>01</td>\n",
       "      <td>930.626305</td>\n",
       "    </tr>\n",
       "    <tr>\n",
       "      <td>2</td>\n",
       "      <td>4804535.0</td>\n",
       "      <td>1.0</td>\n",
       "      <td>3.0</td>\n",
       "      <td>1.0</td>\n",
       "      <td>1.0</td>\n",
       "      <td></td>\n",
       "      <td>NaN</td>\n",
       "      <td>2.0</td>\n",
       "      <td></td>\n",
       "      <td>NaN</td>\n",
       "      <td>1.0</td>\n",
       "      <td>2.0</td>\n",
       "      <td></td>\n",
       "      <td>NaN</td>\n",
       "      <td>1.0</td>\n",
       "      <td>NaN</td>\n",
       "      <td>01</td>\n",
       "      <td>930.626305</td>\n",
       "    </tr>\n",
       "    <tr>\n",
       "      <td>3</td>\n",
       "      <td>4804536.0</td>\n",
       "      <td>1.0</td>\n",
       "      <td>1.0</td>\n",
       "      <td>2.0</td>\n",
       "      <td>2.0</td>\n",
       "      <td>23</td>\n",
       "      <td>NaN</td>\n",
       "      <td>2.0</td>\n",
       "      <td></td>\n",
       "      <td>NaN</td>\n",
       "      <td>1.0</td>\n",
       "      <td>2.0</td>\n",
       "      <td></td>\n",
       "      <td>NaN</td>\n",
       "      <td>1.0</td>\n",
       "      <td>NaN</td>\n",
       "      <td>01</td>\n",
       "      <td>1097.211116</td>\n",
       "    </tr>\n",
       "    <tr>\n",
       "      <td>4</td>\n",
       "      <td>4804536.0</td>\n",
       "      <td>1.0</td>\n",
       "      <td>2.0</td>\n",
       "      <td>1.0</td>\n",
       "      <td>1.0</td>\n",
       "      <td></td>\n",
       "      <td>NaN</td>\n",
       "      <td>1.0</td>\n",
       "      <td></td>\n",
       "      <td>NaN</td>\n",
       "      <td>NaN</td>\n",
       "      <td>2.0</td>\n",
       "      <td></td>\n",
       "      <td>NaN</td>\n",
       "      <td>1.0</td>\n",
       "      <td>NaN</td>\n",
       "      <td>01</td>\n",
       "      <td>1097.211116</td>\n",
       "    </tr>\n",
       "  </tbody>\n",
       "</table>\n",
       "</div>"
      ],
      "text/plain": [
       "   Directorio  Secuencia_p  Orden  P6074  P756 P756S1  P756S3  P755 P755S1  \\\n",
       "0   4804535.0          1.0    1.0    1.0   2.0      5     NaN   2.0          \n",
       "1   4804535.0          1.0    2.0    1.0   1.0            NaN   2.0          \n",
       "2   4804535.0          1.0    3.0    1.0   1.0            NaN   2.0          \n",
       "3   4804536.0          1.0    1.0    2.0   2.0     23     NaN   2.0          \n",
       "4   4804536.0          1.0    2.0    1.0   1.0            NaN   1.0          \n",
       "\n",
       "   P755S3  P754  P753 P753S1  P753S3  P752  P1662 Mes   Fex_c_2011  \n",
       "0     NaN   1.0   2.0            NaN   1.0    NaN  01   930.626305  \n",
       "1     NaN   1.0   2.0            NaN   1.0    NaN  01   930.626305  \n",
       "2     NaN   1.0   2.0            NaN   1.0    NaN  01   930.626305  \n",
       "3     NaN   1.0   2.0            NaN   1.0    NaN  01  1097.211116  \n",
       "4     NaN   NaN   2.0            NaN   1.0    NaN  01  1097.211116  "
      ]
     },
     "execution_count": 9,
     "metadata": {},
     "output_type": "execute_result"
    }
   ],
   "source": [
    "df_list = [area_cg_df, area_ft_df, cb_cg_df, cb_ft_df, mm_df]\n",
    "for df in df_list:\n",
    "    df.shape\n",
    "    df.head()"
   ]
  },
  {
   "cell_type": "markdown",
   "metadata": {},
   "source": [
    "Now let's combine the meta dictionaries into one so that we can get a better understanding of the variables."
   ]
  },
  {
   "cell_type": "code",
   "execution_count": 10,
   "metadata": {
    "ExecuteTime": {
     "end_time": "2020-01-26T10:35:33.719303Z",
     "start_time": "2020-01-26T10:35:33.716236Z"
    }
   },
   "outputs": [],
   "source": [
    "full_meta_dict = dict(mm_meta_dict, **cb_cg_meta_dict)\n",
    "full_meta_dict.update(cb_ft_meta_dict)\n",
    "full_meta_dict.update(area_cg_meta_dict)\n",
    "full_meta_dict.update(area_ft_meta_dict)"
   ]
  },
  {
   "cell_type": "code",
   "execution_count": 11,
   "metadata": {
    "ExecuteTime": {
     "end_time": "2020-01-26T10:35:33.726705Z",
     "start_time": "2020-01-26T10:35:33.721792Z"
    },
    "scrolled": true
   },
   "outputs": [
    {
     "data": {
      "text/plain": [
       "{'Directorio': 'DIRECTORIO',\n",
       " 'Secuencia_p': 'SECUENCIA_P',\n",
       " 'Orden': 'ORDEN',\n",
       " 'P6074': '¿…….. siempre ha vivido en este  municipio?',\n",
       " 'P756': 'Dónde nació…..:',\n",
       " 'P756S1': 'En otro Municipio: Departamento:____________________',\n",
       " 'P756S3': 'En otro país:',\n",
       " 'P755': '¿Dónde vivía …. , hace cinco años?',\n",
       " 'P755S1': '¿Dónde vivía …. , hace cinco años? Departamento:',\n",
       " 'P755S3': '¿Dónde vivía …. , hace cinco años?  En otro pais',\n",
       " 'P754': 'El lugar donde vivía ……. hace cinco años era:',\n",
       " 'P753': '¿Dónde vivía …. , hace 12 meses?',\n",
       " 'P753S1': '¿Dónde vivía …. , hace 12 meses? Departamento:',\n",
       " 'P753S3': '¿Dónde vivía …. , hace 12 meses? En otro pais',\n",
       " 'P752': 'El lugar donde vivía ……. hace 12 meses era:',\n",
       " 'P1662': '¿Cuál fue el principal motivo por el que …. Cambió el lugar donde residia hace 12 meses?',\n",
       " 'Mes': 'Mes',\n",
       " 'Fex_c_2011': 'Factor de expansión',\n",
       " 'DIRECTORIO': 'Directorio',\n",
       " 'SECUENCIA_P': 'Secuencia_p',\n",
       " 'ORDEN': 'Orden',\n",
       " 'HOGAR': 'Hogar',\n",
       " 'REGIS': 'Registro de la encuesta',\n",
       " 'P6016': 'Número de orden de la persona que proporciona la información',\n",
       " 'P6020': 'Sexo',\n",
       " 'P6030S1': 'Mes (mm):',\n",
       " 'P6030S3': 'Año (aaaa):',\n",
       " 'P6040': '¿cuántos años cumplidos tiene...? (si es menor de 1 año, escriba 00)',\n",
       " 'P6050': '¿cuál es el parentesco de ... Con el jefe o jefa del hogar?',\n",
       " 'P6070': 'Actualmente:',\n",
       " 'P6081': '¿El padre de ... reside en este hogar?',\n",
       " 'P6081S1': 'Número de orden de la persona',\n",
       " 'P6083': '¿La madre de ... reside en este hogar?',\n",
       " 'P6083S1': 'Número de orden de la persona',\n",
       " 'P6071': '¿El (la) cónyuge de  ... reside en este hogar?',\n",
       " 'P6071S1': 'Número de orden de la persona',\n",
       " 'P6090': '¿... Está afiliado, es cotizante o es beneficiario de alguna entidad de seguridad social en salud?',\n",
       " 'P6140': '¿anteriormente estuvo ... Afiliado, fue cotizante o beneficiario de alguna entidad de seguridad social en salud?',\n",
       " 'P6150': '¿cuántos meses hace que ... No está afiliado o no cotiza a la seguridad social en salud?',\n",
       " 'P6100': '¿a cual de los siguientes regímenes de seguridad social en salud está afiliado:',\n",
       " 'P6110': '¿quién paga mensualmente por la afiliación de ...?',\n",
       " 'P6120': '¿cuánto paga o cuánto le descuentan mensualmente? (si no sabe cuánto paga o cuanto le descuentan escriba 98)',\n",
       " 'P6125': '¿en los últimos doce meses dejó de asistir al médico o no se hospitalizó, por no tener con que pagar estos servicios en la eps o ars?',\n",
       " 'P6160': '¿sabe leer y escribir?',\n",
       " 'P6170': '¿actualmente ... Asiste a la escuela, colegio o universidad?',\n",
       " 'P6175': 'El establecimiento al que asiste ... ¿es oficial?',\n",
       " 'P6210': '¿cuál es el nivel educativo más alto alcanzado por ... Y el último año o grado aprobado en este nivel?',\n",
       " 'P6210S1': 'Grado',\n",
       " 'P6220': '¿cuál es el título o diploma de mayor nivel educativo que usted ha recibido?',\n",
       " 'P6269': '¿Se graduó usted de una escuela normal superior?',\n",
       " 'CLASE': 'Clase',\n",
       " 'ESC': 'Escolaridad',\n",
       " 'MES': 'Mes',\n",
       " 'DPTO': 'Departamento',\n",
       " 'fex_c_2011': 'Factor de expansión',\n",
       " 'AREA': 'Area',\n",
       " 'P6290': '¿qué hizo principalmente en las ultimas cuatro semanas ... Para conseguir un trabajo o instalar un negocio?',\n",
       " 'P6290S1': '¿cuál?',\n",
       " 'P6230': 'Registre el número de orden de la persona que suministra la información',\n",
       " 'P6240': '¿en que actividad ocupó ... La mayor parte del tiempo la semana pasada?',\n",
       " 'P6240S1': '¿cuál?',\n",
       " 'P6250': 'Además de lo anterior, ¿... Realizó la semana pasada alguna actividad paga por una hora o más?',\n",
       " 'P6260': 'Aunque.... no trabajó la semana pasada, por una hora o más en forma remunerada, ¿tenía durante esa semana algún trabajo o negocio por el que recibe ingresos',\n",
       " 'P6270': '¿... Trabajó la semana pasada en un negocio por una hora o mas sin que le pagaran?',\n",
       " 'P6280': 'En las ultimas 4 semanas ¿... Hizo alguna diligencia para conseguir un trabajo o instalar un negocio?',\n",
       " 'P6300': '¿... Desea conseguir un trabajo remunerado o instalar un negocio?',\n",
       " 'P6310': 'Aunque ... Desea trabajar, ¿por qué motivo principal no hizo diligencias en las ultimas 4 semanas?',\n",
       " 'P6310S1': 'Otro ¿cuál?',\n",
       " 'P6320': 'Durante los últimos 12 meses ¿... Trabajó por lo menos 2 semanas consecutivas?',\n",
       " 'P6330': 'Después de su último empleo, ¿... Ha hecho alguna diligencia para conseguir trabajo o instalar un negocio?',\n",
       " 'P6340': 'Durante los últimos 12 meses ¿... Ha hecho alguna diligencia para conseguir trabajo o instalar un negocio?',\n",
       " 'P6350': '¿cuántos meses hace que ... Dejo de buscar trabajo por última vez? (solo acepta 1 a 12)',\n",
       " 'P6351': 'Si le hubiera resultado algún trabajo a ..., ¿estaba disponible la semana pasada para empezar a trabajar?',\n",
       " 'FT': 'Fuerza de trabajo'}"
      ]
     },
     "execution_count": 11,
     "metadata": {},
     "output_type": "execute_result"
    }
   ],
   "source": [
    "full_meta_dict"
   ]
  },
  {
   "cell_type": "markdown",
   "metadata": {},
   "source": [
    "# Scrub"
   ]
  },
  {
   "cell_type": "markdown",
   "metadata": {},
   "source": [
    "## Merging Data"
   ]
  },
  {
   "cell_type": "markdown",
   "metadata": {},
   "source": [
    "We will first start by concatenating the area and cabecera survey modules, followed by a left merge with our migration module on the specific subset of respondents we're interested in for this project."
   ]
  },
  {
   "cell_type": "code",
   "execution_count": 12,
   "metadata": {
    "ExecuteTime": {
     "end_time": "2020-01-26T10:35:33.796659Z",
     "start_time": "2020-01-26T10:35:33.728728Z"
    }
   },
   "outputs": [
    {
     "data": {
      "text/plain": [
       "(86320, 38)"
      ]
     },
     "execution_count": 12,
     "metadata": {},
     "output_type": "execute_result"
    }
   ],
   "source": [
    "# Concatenate the General Personal Characteristics dataframes \n",
    "cg_frames = [area_cg_df, cb_cg_df]\n",
    "cg_df = pd.concat(cg_frames, sort=True)\n",
    "cg_df.shape"
   ]
  },
  {
   "cell_type": "code",
   "execution_count": 13,
   "metadata": {
    "ExecuteTime": {
     "end_time": "2020-01-26T10:35:33.859594Z",
     "start_time": "2020-01-26T10:35:33.798685Z"
    }
   },
   "outputs": [
    {
     "data": {
      "text/plain": [
       "(71770, 28)"
      ]
     },
     "execution_count": 13,
     "metadata": {},
     "output_type": "execute_result"
    }
   ],
   "source": [
    "# Concatenate the Employment Efforts dataframes\n",
    "ft_frames = [area_ft_df, cb_ft_df]\n",
    "ft_df = pd.concat(ft_frames, sort=True)\n",
    "ft_df.shape"
   ]
  },
  {
   "cell_type": "code",
   "execution_count": 14,
   "metadata": {
    "ExecuteTime": {
     "end_time": "2020-01-26T10:35:34.190639Z",
     "start_time": "2020-01-26T10:35:33.861844Z"
    },
    "scrolled": true
   },
   "outputs": [
    {
     "data": {
      "text/html": [
       "<div>\n",
       "<style scoped>\n",
       "    .dataframe tbody tr th:only-of-type {\n",
       "        vertical-align: middle;\n",
       "    }\n",
       "\n",
       "    .dataframe tbody tr th {\n",
       "        vertical-align: top;\n",
       "    }\n",
       "\n",
       "    .dataframe thead th {\n",
       "        text-align: right;\n",
       "    }\n",
       "</style>\n",
       "<table border=\"1\" class=\"dataframe\">\n",
       "  <thead>\n",
       "    <tr style=\"text-align: right;\">\n",
       "      <th></th>\n",
       "      <th>AREA</th>\n",
       "      <th>CLASE</th>\n",
       "      <th>DIRECTORIO</th>\n",
       "      <th>DPTO</th>\n",
       "      <th>ESC</th>\n",
       "      <th>HOGAR</th>\n",
       "      <th>MES</th>\n",
       "      <th>ORDEN</th>\n",
       "      <th>P6016</th>\n",
       "      <th>P6020</th>\n",
       "      <th>...</th>\n",
       "      <th>P6300</th>\n",
       "      <th>P6310</th>\n",
       "      <th>P6310S1</th>\n",
       "      <th>P6320</th>\n",
       "      <th>P6330</th>\n",
       "      <th>P6340</th>\n",
       "      <th>P6350</th>\n",
       "      <th>P6351</th>\n",
       "      <th>REGIS_y</th>\n",
       "      <th>fex_c_2011_y</th>\n",
       "    </tr>\n",
       "  </thead>\n",
       "  <tbody>\n",
       "    <tr>\n",
       "      <td>0</td>\n",
       "      <td>05</td>\n",
       "      <td>NaN</td>\n",
       "      <td>4804535.0</td>\n",
       "      <td>05</td>\n",
       "      <td>1.0</td>\n",
       "      <td>1.0</td>\n",
       "      <td>01</td>\n",
       "      <td>1.0</td>\n",
       "      <td>1.0</td>\n",
       "      <td>2.0</td>\n",
       "      <td>...</td>\n",
       "      <td>2.0</td>\n",
       "      <td>NaN</td>\n",
       "      <td></td>\n",
       "      <td>NaN</td>\n",
       "      <td>NaN</td>\n",
       "      <td>NaN</td>\n",
       "      <td>NaN</td>\n",
       "      <td>NaN</td>\n",
       "      <td>50</td>\n",
       "      <td>930.626305</td>\n",
       "    </tr>\n",
       "    <tr>\n",
       "      <td>1</td>\n",
       "      <td>05</td>\n",
       "      <td>NaN</td>\n",
       "      <td>4804535.0</td>\n",
       "      <td>05</td>\n",
       "      <td>3.0</td>\n",
       "      <td>1.0</td>\n",
       "      <td>01</td>\n",
       "      <td>2.0</td>\n",
       "      <td>2.0</td>\n",
       "      <td>1.0</td>\n",
       "      <td>...</td>\n",
       "      <td>NaN</td>\n",
       "      <td>NaN</td>\n",
       "      <td></td>\n",
       "      <td>NaN</td>\n",
       "      <td>NaN</td>\n",
       "      <td>NaN</td>\n",
       "      <td>NaN</td>\n",
       "      <td>NaN</td>\n",
       "      <td>50</td>\n",
       "      <td>930.626305</td>\n",
       "    </tr>\n",
       "    <tr>\n",
       "      <td>2</td>\n",
       "      <td>05</td>\n",
       "      <td>NaN</td>\n",
       "      <td>4804535.0</td>\n",
       "      <td>05</td>\n",
       "      <td>11.0</td>\n",
       "      <td>1.0</td>\n",
       "      <td>01</td>\n",
       "      <td>3.0</td>\n",
       "      <td>3.0</td>\n",
       "      <td>2.0</td>\n",
       "      <td>...</td>\n",
       "      <td>NaN</td>\n",
       "      <td>NaN</td>\n",
       "      <td></td>\n",
       "      <td>NaN</td>\n",
       "      <td>NaN</td>\n",
       "      <td>NaN</td>\n",
       "      <td>NaN</td>\n",
       "      <td>NaN</td>\n",
       "      <td>50</td>\n",
       "      <td>930.626305</td>\n",
       "    </tr>\n",
       "    <tr>\n",
       "      <td>3</td>\n",
       "      <td>05</td>\n",
       "      <td>NaN</td>\n",
       "      <td>4804536.0</td>\n",
       "      <td>05</td>\n",
       "      <td>11.0</td>\n",
       "      <td>1.0</td>\n",
       "      <td>01</td>\n",
       "      <td>1.0</td>\n",
       "      <td>1.0</td>\n",
       "      <td>2.0</td>\n",
       "      <td>...</td>\n",
       "      <td>NaN</td>\n",
       "      <td>NaN</td>\n",
       "      <td></td>\n",
       "      <td>NaN</td>\n",
       "      <td>NaN</td>\n",
       "      <td>NaN</td>\n",
       "      <td>NaN</td>\n",
       "      <td>NaN</td>\n",
       "      <td>50</td>\n",
       "      <td>1097.211116</td>\n",
       "    </tr>\n",
       "    <tr>\n",
       "      <td>4</td>\n",
       "      <td>05</td>\n",
       "      <td>NaN</td>\n",
       "      <td>4804537.0</td>\n",
       "      <td>05</td>\n",
       "      <td>2.0</td>\n",
       "      <td>1.0</td>\n",
       "      <td>01</td>\n",
       "      <td>1.0</td>\n",
       "      <td>1.0</td>\n",
       "      <td>1.0</td>\n",
       "      <td>...</td>\n",
       "      <td>NaN</td>\n",
       "      <td>NaN</td>\n",
       "      <td></td>\n",
       "      <td>NaN</td>\n",
       "      <td>NaN</td>\n",
       "      <td>NaN</td>\n",
       "      <td>NaN</td>\n",
       "      <td>NaN</td>\n",
       "      <td>50</td>\n",
       "      <td>827.297496</td>\n",
       "    </tr>\n",
       "  </tbody>\n",
       "</table>\n",
       "<p>5 rows × 58 columns</p>\n",
       "</div>"
      ],
      "text/plain": [
       "  AREA CLASE  DIRECTORIO DPTO   ESC  HOGAR MES  ORDEN  P6016  P6020  ...  \\\n",
       "0   05   NaN   4804535.0   05   1.0    1.0  01    1.0    1.0    2.0  ...   \n",
       "1   05   NaN   4804535.0   05   3.0    1.0  01    2.0    2.0    1.0  ...   \n",
       "2   05   NaN   4804535.0   05  11.0    1.0  01    3.0    3.0    2.0  ...   \n",
       "3   05   NaN   4804536.0   05  11.0    1.0  01    1.0    1.0    2.0  ...   \n",
       "4   05   NaN   4804537.0   05   2.0    1.0  01    1.0    1.0    1.0  ...   \n",
       "\n",
       "   P6300  P6310  P6310S1  P6320  P6330  P6340  P6350  P6351  REGIS_y  \\\n",
       "0    2.0    NaN             NaN    NaN    NaN    NaN    NaN       50   \n",
       "1    NaN    NaN             NaN    NaN    NaN    NaN    NaN       50   \n",
       "2    NaN    NaN             NaN    NaN    NaN    NaN    NaN       50   \n",
       "3    NaN    NaN             NaN    NaN    NaN    NaN    NaN       50   \n",
       "4    NaN    NaN             NaN    NaN    NaN    NaN    NaN       50   \n",
       "\n",
       "   fex_c_2011_y  \n",
       "0    930.626305  \n",
       "1    930.626305  \n",
       "2    930.626305  \n",
       "3   1097.211116  \n",
       "4    827.297496  \n",
       "\n",
       "[5 rows x 58 columns]"
      ]
     },
     "execution_count": 14,
     "metadata": {},
     "output_type": "execute_result"
    }
   ],
   "source": [
    "# Merge the General Personal Characteristics and Employment Efforts dataframes\n",
    "cg_ft = pd.merge(cg_df, ft_df, how=\"inner\", on=['DIRECTORIO', 'SECUENCIA_P', \n",
    "                                                'ORDEN', 'AREA', 'CLASE', 'HOGAR', 'DPTO', 'MES'])\n",
    "cg_ft.head()"
   ]
  },
  {
   "cell_type": "code",
   "execution_count": 15,
   "metadata": {
    "ExecuteTime": {
     "end_time": "2020-01-26T10:35:34.343360Z",
     "start_time": "2020-01-26T10:35:34.192629Z"
    }
   },
   "outputs": [
    {
     "name": "stdout",
     "output_type": "stream",
     "text": [
      "<class 'pandas.core.frame.DataFrame'>\n",
      "Int64Index: 71770 entries, 0 to 71769\n",
      "Data columns (total 58 columns):\n",
      "AREA            71770 non-null object\n",
      "CLASE           46815 non-null object\n",
      "DIRECTORIO      71770 non-null float64\n",
      "DPTO            71770 non-null object\n",
      "ESC             71765 non-null float64\n",
      "HOGAR           71770 non-null float64\n",
      "MES             71770 non-null object\n",
      "ORDEN           71770 non-null float64\n",
      "P6016           71770 non-null float64\n",
      "P6020           71770 non-null float64\n",
      "P6030S1         71451 non-null float64\n",
      "P6030S3         71451 non-null float64\n",
      "P6040           71770 non-null float64\n",
      "P6050           71770 non-null float64\n",
      "P6070           71770 non-null float64\n",
      "P6071           33348 non-null float64\n",
      "P6071S1         31643 non-null float64\n",
      "P6081           71770 non-null float64\n",
      "P6081S1         11799 non-null float64\n",
      "P6083           71770 non-null float64\n",
      "P6083S1         22816 non-null float64\n",
      "P6090           71770 non-null float64\n",
      "P6100           66475 non-null float64\n",
      "P6110           38218 non-null float64\n",
      "P6120           23567 non-null float64\n",
      "P6125           71770 non-null float64\n",
      "P6140           5280 non-null float64\n",
      "P6150           4064 non-null float64\n",
      "P6160           71770 non-null float64\n",
      "P6170           71770 non-null float64\n",
      "P6175           13095 non-null float64\n",
      "P6210           71770 non-null float64\n",
      "P6210S1         71770 non-null float64\n",
      "P6220           43246 non-null float64\n",
      "P6269           5823 non-null float64\n",
      "REGIS_x         71770 non-null object\n",
      "SECUENCIA_P     71770 non-null float64\n",
      "fex_c_2011_x    71770 non-null float64\n",
      "FT              71770 non-null float64\n",
      "P6230           71770 non-null float64\n",
      "P6240           71770 non-null float64\n",
      "P6240S1         71770 non-null object\n",
      "P6250           39774 non-null float64\n",
      "P6260           36216 non-null float64\n",
      "P6270           33322 non-null float64\n",
      "P6280           32413 non-null float64\n",
      "P6290           5971 non-null float64\n",
      "P6290S1         71770 non-null object\n",
      "P6300           26442 non-null float64\n",
      "P6310           4490 non-null float64\n",
      "P6310S1         71770 non-null object\n",
      "P6320           1506 non-null float64\n",
      "P6330           661 non-null float64\n",
      "P6340           845 non-null float64\n",
      "P6350           377 non-null float64\n",
      "P6351           6375 non-null float64\n",
      "REGIS_y         71770 non-null object\n",
      "fex_c_2011_y    71770 non-null float64\n",
      "dtypes: float64(49), object(9)\n",
      "memory usage: 32.3+ MB\n"
     ]
    }
   ],
   "source": [
    "cg_ft.info()"
   ]
  },
  {
   "cell_type": "markdown",
   "metadata": {},
   "source": [
    "### Merge on Migration - Selecting Recent Venezuelan Residents"
   ]
  },
  {
   "cell_type": "markdown",
   "metadata": {},
   "source": [
    "Before we can make the final dataframe containing our various survey modules, we will first narrow down the Migration Module.  The variable of interest for us will be `P753S3` because this provides us with where (which country) the respondent was residing 12 months ago.  This corresponds to our target variable `P1662` which asks what was the principal reason the respondent left where they were living 12 months ago. \n",
    "\n",
    "In order to merge the dataframes, we will need to get a better understanding of this column and its variable value labels so that we can make sure to subset for respondents who were living in Venezuela 12 months ago."
   ]
  },
  {
   "cell_type": "code",
   "execution_count": 16,
   "metadata": {
    "ExecuteTime": {
     "end_time": "2020-01-26T10:35:34.349915Z",
     "start_time": "2020-01-26T10:35:34.345552Z"
    },
    "scrolled": true
   },
   "outputs": [
    {
     "data": {
      "text/plain": [
       "{1.0: 'Estados Unidos',\n",
       " 2.0: 'España',\n",
       " 3.0: 'Venezuela',\n",
       " 4.0: 'Ecuador',\n",
       " 5.0: 'Panamá',\n",
       " 6.0: 'Perú',\n",
       " 7.0: 'Costa Rica',\n",
       " 8.0: 'Argentina',\n",
       " 9.0: 'Francia',\n",
       " 10.0: 'Italia',\n",
       " 11.0: 'Otro pais'}"
      ]
     },
     "execution_count": 16,
     "metadata": {},
     "output_type": "execute_result"
    }
   ],
   "source": [
    "# examine value labels using the pyreadstat meta data container\n",
    "mm_meta.variable_value_labels['P753S3']"
   ]
  },
  {
   "cell_type": "markdown",
   "metadata": {},
   "source": [
    "Since we are only interested in respondents who were living in Venezuela 12 months before this survey, we will slice the `mm_df` to select these respondents. We will then perform a left merge on this dataframe with the other dataset."
   ]
  },
  {
   "cell_type": "code",
   "execution_count": 17,
   "metadata": {
    "ExecuteTime": {
     "end_time": "2020-01-26T10:35:34.362338Z",
     "start_time": "2020-01-26T10:35:34.352076Z"
    },
    "scrolled": true
   },
   "outputs": [
    {
     "name": "stdout",
     "output_type": "stream",
     "text": [
      "<class 'pandas.core.frame.DataFrame'>\n",
      "Int64Index: 930 entries, 485 to 62493\n",
      "Data columns (total 18 columns):\n",
      "Directorio     930 non-null float64\n",
      "Secuencia_p    930 non-null float64\n",
      "Orden          930 non-null float64\n",
      "P6074          930 non-null float64\n",
      "P756           930 non-null float64\n",
      "P756S1         930 non-null object\n",
      "P756S3         839 non-null float64\n",
      "P755           930 non-null float64\n",
      "P755S1         930 non-null object\n",
      "P755S3         829 non-null float64\n",
      "P754           2 non-null float64\n",
      "P753           930 non-null float64\n",
      "P753S1         930 non-null object\n",
      "P753S3         930 non-null float64\n",
      "P752           0 non-null float64\n",
      "P1662          930 non-null float64\n",
      "Mes            930 non-null object\n",
      "Fex_c_2011     930 non-null float64\n",
      "dtypes: float64(14), object(4)\n",
      "memory usage: 138.0+ KB\n"
     ]
    }
   ],
   "source": [
    "# Make a dataframe containing respondents who were living in Venezuela 12 months ago\n",
    "ven_mm = mm_df.loc[mm_df['P753S3'] == 3]\n",
    "ven_mm.info()"
   ]
  },
  {
   "cell_type": "code",
   "execution_count": 18,
   "metadata": {
    "ExecuteTime": {
     "end_time": "2020-01-26T10:35:34.447384Z",
     "start_time": "2020-01-26T10:35:34.364408Z"
    },
    "scrolled": true
   },
   "outputs": [
    {
     "name": "stdout",
     "output_type": "stream",
     "text": [
      "<class 'pandas.core.frame.DataFrame'>\n",
      "Int64Index: 1304 entries, 0 to 1303\n",
      "Data columns (total 76 columns):\n",
      "Directorio      1304 non-null float64\n",
      "Secuencia_p     1304 non-null float64\n",
      "Orden           1304 non-null float64\n",
      "P6074           1304 non-null float64\n",
      "P756            1304 non-null float64\n",
      "P756S1          1304 non-null object\n",
      "P756S3          1165 non-null float64\n",
      "P755            1304 non-null float64\n",
      "P755S1          1304 non-null object\n",
      "P755S3          1198 non-null float64\n",
      "P754            4 non-null float64\n",
      "P753            1304 non-null float64\n",
      "P753S1          1304 non-null object\n",
      "P753S3          1304 non-null float64\n",
      "P752            0 non-null float64\n",
      "P1662           1304 non-null float64\n",
      "Mes             1304 non-null object\n",
      "Fex_c_2011      1304 non-null float64\n",
      "AREA            1037 non-null object\n",
      "CLASE           663 non-null object\n",
      "DIRECTORIO      1037 non-null float64\n",
      "DPTO            1037 non-null object\n",
      "ESC             1037 non-null float64\n",
      "HOGAR           1037 non-null float64\n",
      "MES             1037 non-null object\n",
      "ORDEN           1037 non-null float64\n",
      "P6016           1037 non-null float64\n",
      "P6020           1037 non-null float64\n",
      "P6030S1         1035 non-null float64\n",
      "P6030S3         1035 non-null float64\n",
      "P6040           1037 non-null float64\n",
      "P6050           1037 non-null float64\n",
      "P6070           1037 non-null float64\n",
      "P6071           535 non-null float64\n",
      "P6071S1         454 non-null float64\n",
      "P6081           1037 non-null float64\n",
      "P6081S1         101 non-null float64\n",
      "P6083           1037 non-null float64\n",
      "P6083S1         199 non-null float64\n",
      "P6090           1037 non-null float64\n",
      "P6100           133 non-null float64\n",
      "P6110           47 non-null float64\n",
      "P6120           35 non-null float64\n",
      "P6125           1037 non-null float64\n",
      "P6140           904 non-null float64\n",
      "P6150           479 non-null float64\n",
      "P6160           1037 non-null float64\n",
      "P6170           1037 non-null float64\n",
      "P6175           59 non-null float64\n",
      "P6210           1037 non-null float64\n",
      "P6210S1         1037 non-null float64\n",
      "P6220           624 non-null float64\n",
      "P6269           65 non-null float64\n",
      "REGIS_x         1037 non-null object\n",
      "SECUENCIA_P     1037 non-null float64\n",
      "fex_c_2011_x    1037 non-null float64\n",
      "FT              1037 non-null float64\n",
      "P6230           1037 non-null float64\n",
      "P6240           1037 non-null float64\n",
      "P6240S1         1037 non-null object\n",
      "P6250           519 non-null float64\n",
      "P6260           469 non-null float64\n",
      "P6270           456 non-null float64\n",
      "P6280           430 non-null float64\n",
      "P6290           160 non-null float64\n",
      "P6290S1         1037 non-null object\n",
      "P6300           270 non-null float64\n",
      "P6310           81 non-null float64\n",
      "P6310S1         1037 non-null object\n",
      "P6320           24 non-null float64\n",
      "P6330           9 non-null float64\n",
      "P6340           15 non-null float64\n",
      "P6350           7 non-null float64\n",
      "P6351           167 non-null float64\n",
      "REGIS_y         1037 non-null object\n",
      "fex_c_2011_y    1037 non-null float64\n",
      "dtypes: float64(63), object(13)\n",
      "memory usage: 784.4+ KB\n"
     ]
    }
   ],
   "source": [
    "# Merge our Venezuelan born respondents Migration module dataframe with the other merged dataframe\n",
    "ven_df = pd.merge(ven_mm, cg_ft, how='left', \n",
    "                 left_on=['Directorio', 'Secuencia_p', 'Orden'], \n",
    "                 right_on=['DIRECTORIO', 'SECUENCIA_P', 'ORDEN'])\n",
    "ven_df.info()"
   ]
  },
  {
   "cell_type": "markdown",
   "metadata": {},
   "source": [
    "Right away, we know that there are a few columns we can drop because these are essentially duplicate columns used for linking the various survey dataset modules."
   ]
  },
  {
   "cell_type": "code",
   "execution_count": 19,
   "metadata": {
    "ExecuteTime": {
     "end_time": "2020-01-26T10:35:34.454334Z",
     "start_time": "2020-01-26T10:35:34.449480Z"
    }
   },
   "outputs": [],
   "source": [
    "# Drop columns that are basically duplicates\n",
    "ven_df.drop(['DIRECTORIO', 'SECUENCIA_P', 'ORDEN', 'Fex_c_2011', 'fex_c_2011_y', \n",
    "             'fex_c_2011_x', 'REGIS_x', 'REGIS_y'], axis=1, inplace=True)"
   ]
  },
  {
   "cell_type": "code",
   "execution_count": 20,
   "metadata": {
    "ExecuteTime": {
     "end_time": "2020-01-26T10:35:34.471743Z",
     "start_time": "2020-01-26T10:35:34.456471Z"
    },
    "scrolled": true
   },
   "outputs": [
    {
     "name": "stdout",
     "output_type": "stream",
     "text": [
      "<class 'pandas.core.frame.DataFrame'>\n",
      "Int64Index: 1304 entries, 0 to 1303\n",
      "Data columns (total 68 columns):\n",
      "Directorio     1304 non-null float64\n",
      "Secuencia_p    1304 non-null float64\n",
      "Orden          1304 non-null float64\n",
      "P6074          1304 non-null float64\n",
      "P756           1304 non-null float64\n",
      "P756S1         1304 non-null object\n",
      "P756S3         1165 non-null float64\n",
      "P755           1304 non-null float64\n",
      "P755S1         1304 non-null object\n",
      "P755S3         1198 non-null float64\n",
      "P754           4 non-null float64\n",
      "P753           1304 non-null float64\n",
      "P753S1         1304 non-null object\n",
      "P753S3         1304 non-null float64\n",
      "P752           0 non-null float64\n",
      "P1662          1304 non-null float64\n",
      "Mes            1304 non-null object\n",
      "AREA           1037 non-null object\n",
      "CLASE          663 non-null object\n",
      "DPTO           1037 non-null object\n",
      "ESC            1037 non-null float64\n",
      "HOGAR          1037 non-null float64\n",
      "MES            1037 non-null object\n",
      "P6016          1037 non-null float64\n",
      "P6020          1037 non-null float64\n",
      "P6030S1        1035 non-null float64\n",
      "P6030S3        1035 non-null float64\n",
      "P6040          1037 non-null float64\n",
      "P6050          1037 non-null float64\n",
      "P6070          1037 non-null float64\n",
      "P6071          535 non-null float64\n",
      "P6071S1        454 non-null float64\n",
      "P6081          1037 non-null float64\n",
      "P6081S1        101 non-null float64\n",
      "P6083          1037 non-null float64\n",
      "P6083S1        199 non-null float64\n",
      "P6090          1037 non-null float64\n",
      "P6100          133 non-null float64\n",
      "P6110          47 non-null float64\n",
      "P6120          35 non-null float64\n",
      "P6125          1037 non-null float64\n",
      "P6140          904 non-null float64\n",
      "P6150          479 non-null float64\n",
      "P6160          1037 non-null float64\n",
      "P6170          1037 non-null float64\n",
      "P6175          59 non-null float64\n",
      "P6210          1037 non-null float64\n",
      "P6210S1        1037 non-null float64\n",
      "P6220          624 non-null float64\n",
      "P6269          65 non-null float64\n",
      "FT             1037 non-null float64\n",
      "P6230          1037 non-null float64\n",
      "P6240          1037 non-null float64\n",
      "P6240S1        1037 non-null object\n",
      "P6250          519 non-null float64\n",
      "P6260          469 non-null float64\n",
      "P6270          456 non-null float64\n",
      "P6280          430 non-null float64\n",
      "P6290          160 non-null float64\n",
      "P6290S1        1037 non-null object\n",
      "P6300          270 non-null float64\n",
      "P6310          81 non-null float64\n",
      "P6310S1        1037 non-null object\n",
      "P6320          24 non-null float64\n",
      "P6330          9 non-null float64\n",
      "P6340          15 non-null float64\n",
      "P6350          7 non-null float64\n",
      "P6351          167 non-null float64\n",
      "dtypes: float64(57), object(11)\n",
      "memory usage: 702.9+ KB\n"
     ]
    }
   ],
   "source": [
    "ven_df.info()"
   ]
  },
  {
   "cell_type": "markdown",
   "metadata": {},
   "source": [
    "We expected there to be as many rows as were available in our subset of ven_mm dataframe. Let's investigate if there are duplicate rows for some reason and remove."
   ]
  },
  {
   "cell_type": "code",
   "execution_count": 23,
   "metadata": {
    "ExecuteTime": {
     "end_time": "2020-01-26T10:35:34.532183Z",
     "start_time": "2020-01-26T10:35:34.512503Z"
    }
   },
   "outputs": [
    {
     "data": {
      "text/plain": [
       "1304"
      ]
     },
     "execution_count": 23,
     "metadata": {},
     "output_type": "execute_result"
    }
   ],
   "source": [
    "ven_dedup = ven_df.drop_duplicates(keep='first')\n",
    "len(ven_dedup)"
   ]
  },
  {
   "cell_type": "markdown",
   "metadata": {},
   "source": [
    "## Investigate NaNs"
   ]
  },
  {
   "cell_type": "markdown",
   "metadata": {},
   "source": [
    "We now have 68 columns, which we'll want to still narrow down with some more in-depth investigation of the available variables and especially those with null values."
   ]
  },
  {
   "cell_type": "markdown",
   "metadata": {},
   "source": [
    "Given that there are so many columns with missing values, let's create a way to see them in order of those with the most missing values."
   ]
  },
  {
   "cell_type": "code",
   "execution_count": 26,
   "metadata": {
    "ExecuteTime": {
     "end_time": "2020-01-26T10:35:34.574267Z",
     "start_time": "2020-01-26T10:35:34.556002Z"
    }
   },
   "outputs": [
    {
     "data": {
      "text/html": [
       "<div>\n",
       "<style scoped>\n",
       "    .dataframe tbody tr th:only-of-type {\n",
       "        vertical-align: middle;\n",
       "    }\n",
       "\n",
       "    .dataframe tbody tr th {\n",
       "        vertical-align: top;\n",
       "    }\n",
       "\n",
       "    .dataframe thead th {\n",
       "        text-align: right;\n",
       "    }\n",
       "</style>\n",
       "<table border=\"1\" class=\"dataframe\">\n",
       "  <thead>\n",
       "    <tr style=\"text-align: right;\">\n",
       "      <th></th>\n",
       "      <th>columns_name</th>\n",
       "      <th>percent_missing</th>\n",
       "    </tr>\n",
       "  </thead>\n",
       "  <tbody>\n",
       "    <tr>\n",
       "      <td>P752</td>\n",
       "      <td>P752</td>\n",
       "      <td>100.000000</td>\n",
       "    </tr>\n",
       "    <tr>\n",
       "      <td>P754</td>\n",
       "      <td>P754</td>\n",
       "      <td>99.693252</td>\n",
       "    </tr>\n",
       "    <tr>\n",
       "      <td>P6350</td>\n",
       "      <td>P6350</td>\n",
       "      <td>99.463190</td>\n",
       "    </tr>\n",
       "    <tr>\n",
       "      <td>P6330</td>\n",
       "      <td>P6330</td>\n",
       "      <td>99.309816</td>\n",
       "    </tr>\n",
       "    <tr>\n",
       "      <td>P6340</td>\n",
       "      <td>P6340</td>\n",
       "      <td>98.849693</td>\n",
       "    </tr>\n",
       "    <tr>\n",
       "      <td>P6320</td>\n",
       "      <td>P6320</td>\n",
       "      <td>98.159509</td>\n",
       "    </tr>\n",
       "    <tr>\n",
       "      <td>P6120</td>\n",
       "      <td>P6120</td>\n",
       "      <td>97.315951</td>\n",
       "    </tr>\n",
       "    <tr>\n",
       "      <td>P6110</td>\n",
       "      <td>P6110</td>\n",
       "      <td>96.395706</td>\n",
       "    </tr>\n",
       "    <tr>\n",
       "      <td>P6175</td>\n",
       "      <td>P6175</td>\n",
       "      <td>95.475460</td>\n",
       "    </tr>\n",
       "    <tr>\n",
       "      <td>P6269</td>\n",
       "      <td>P6269</td>\n",
       "      <td>95.015337</td>\n",
       "    </tr>\n",
       "    <tr>\n",
       "      <td>P6310</td>\n",
       "      <td>P6310</td>\n",
       "      <td>93.788344</td>\n",
       "    </tr>\n",
       "    <tr>\n",
       "      <td>P6081S1</td>\n",
       "      <td>P6081S1</td>\n",
       "      <td>92.254601</td>\n",
       "    </tr>\n",
       "    <tr>\n",
       "      <td>P6100</td>\n",
       "      <td>P6100</td>\n",
       "      <td>89.800613</td>\n",
       "    </tr>\n",
       "    <tr>\n",
       "      <td>P6290</td>\n",
       "      <td>P6290</td>\n",
       "      <td>87.730061</td>\n",
       "    </tr>\n",
       "    <tr>\n",
       "      <td>P6351</td>\n",
       "      <td>P6351</td>\n",
       "      <td>87.193252</td>\n",
       "    </tr>\n",
       "    <tr>\n",
       "      <td>P6083S1</td>\n",
       "      <td>P6083S1</td>\n",
       "      <td>84.739264</td>\n",
       "    </tr>\n",
       "    <tr>\n",
       "      <td>P6300</td>\n",
       "      <td>P6300</td>\n",
       "      <td>79.294479</td>\n",
       "    </tr>\n",
       "    <tr>\n",
       "      <td>P6280</td>\n",
       "      <td>P6280</td>\n",
       "      <td>67.024540</td>\n",
       "    </tr>\n",
       "    <tr>\n",
       "      <td>P6071S1</td>\n",
       "      <td>P6071S1</td>\n",
       "      <td>65.184049</td>\n",
       "    </tr>\n",
       "    <tr>\n",
       "      <td>P6270</td>\n",
       "      <td>P6270</td>\n",
       "      <td>65.030675</td>\n",
       "    </tr>\n",
       "    <tr>\n",
       "      <td>P6260</td>\n",
       "      <td>P6260</td>\n",
       "      <td>64.033742</td>\n",
       "    </tr>\n",
       "    <tr>\n",
       "      <td>P6150</td>\n",
       "      <td>P6150</td>\n",
       "      <td>63.266871</td>\n",
       "    </tr>\n",
       "    <tr>\n",
       "      <td>P6250</td>\n",
       "      <td>P6250</td>\n",
       "      <td>60.199387</td>\n",
       "    </tr>\n",
       "    <tr>\n",
       "      <td>P6071</td>\n",
       "      <td>P6071</td>\n",
       "      <td>58.972393</td>\n",
       "    </tr>\n",
       "    <tr>\n",
       "      <td>P6220</td>\n",
       "      <td>P6220</td>\n",
       "      <td>52.147239</td>\n",
       "    </tr>\n",
       "    <tr>\n",
       "      <td>CLASE</td>\n",
       "      <td>CLASE</td>\n",
       "      <td>49.156442</td>\n",
       "    </tr>\n",
       "    <tr>\n",
       "      <td>P6140</td>\n",
       "      <td>P6140</td>\n",
       "      <td>30.674847</td>\n",
       "    </tr>\n",
       "    <tr>\n",
       "      <td>P6030S1</td>\n",
       "      <td>P6030S1</td>\n",
       "      <td>20.628834</td>\n",
       "    </tr>\n",
       "    <tr>\n",
       "      <td>P6030S3</td>\n",
       "      <td>P6030S3</td>\n",
       "      <td>20.628834</td>\n",
       "    </tr>\n",
       "    <tr>\n",
       "      <td>P6160</td>\n",
       "      <td>P6160</td>\n",
       "      <td>20.475460</td>\n",
       "    </tr>\n",
       "  </tbody>\n",
       "</table>\n",
       "</div>"
      ],
      "text/plain": [
       "        columns_name  percent_missing\n",
       "P752            P752       100.000000\n",
       "P754            P754        99.693252\n",
       "P6350          P6350        99.463190\n",
       "P6330          P6330        99.309816\n",
       "P6340          P6340        98.849693\n",
       "P6320          P6320        98.159509\n",
       "P6120          P6120        97.315951\n",
       "P6110          P6110        96.395706\n",
       "P6175          P6175        95.475460\n",
       "P6269          P6269        95.015337\n",
       "P6310          P6310        93.788344\n",
       "P6081S1      P6081S1        92.254601\n",
       "P6100          P6100        89.800613\n",
       "P6290          P6290        87.730061\n",
       "P6351          P6351        87.193252\n",
       "P6083S1      P6083S1        84.739264\n",
       "P6300          P6300        79.294479\n",
       "P6280          P6280        67.024540\n",
       "P6071S1      P6071S1        65.184049\n",
       "P6270          P6270        65.030675\n",
       "P6260          P6260        64.033742\n",
       "P6150          P6150        63.266871\n",
       "P6250          P6250        60.199387\n",
       "P6071          P6071        58.972393\n",
       "P6220          P6220        52.147239\n",
       "CLASE          CLASE        49.156442\n",
       "P6140          P6140        30.674847\n",
       "P6030S1      P6030S1        20.628834\n",
       "P6030S3      P6030S3        20.628834\n",
       "P6160          P6160        20.475460"
      ]
     },
     "execution_count": 26,
     "metadata": {},
     "output_type": "execute_result"
    }
   ],
   "source": [
    "percent_missing = ven_df.isnull().sum() * 100 / len(ven_df)\n",
    "missing_value_df = pd.DataFrame({'columns_name': ven_df.columns, \n",
    "                                'percent_missing': percent_missing})\n",
    "missing_value_df.sort_values('percent_missing', ascending=False, inplace=True)\n",
    "missing_value_df.head(30)"
   ]
  },
  {
   "cell_type": "code",
   "execution_count": 29,
   "metadata": {
    "ExecuteTime": {
     "end_time": "2020-01-26T10:48:57.158338Z",
     "start_time": "2020-01-26T10:48:57.134657Z"
    },
    "scrolled": true
   },
   "outputs": [
    {
     "name": "stdout",
     "output_type": "stream",
     "text": [
      "26\n"
     ]
    },
    {
     "data": {
      "text/plain": [
       "['P754',\n",
       " 'P752',\n",
       " 'CLASE',\n",
       " 'P6071',\n",
       " 'P6071S1',\n",
       " 'P6081S1',\n",
       " 'P6083S1',\n",
       " 'P6100',\n",
       " 'P6110',\n",
       " 'P6120',\n",
       " 'P6150',\n",
       " 'P6175',\n",
       " 'P6220',\n",
       " 'P6269',\n",
       " 'P6250',\n",
       " 'P6260',\n",
       " 'P6270',\n",
       " 'P6280',\n",
       " 'P6290',\n",
       " 'P6300',\n",
       " 'P6310',\n",
       " 'P6320',\n",
       " 'P6330',\n",
       " 'P6340',\n",
       " 'P6350',\n",
       " 'P6351']"
      ]
     },
     "execution_count": 29,
     "metadata": {},
     "output_type": "execute_result"
    }
   ],
   "source": [
    "# make a list of variables with more than 600 NaNs (roughly 45%) in their column\n",
    "vars_to_drop = []\n",
    "cols = list(ven_df)\n",
    "\n",
    "for col in cols:\n",
    "    if ven_df[col].isnull().sum() > 600:\n",
    "        vars_to_drop.append(col)\n",
    "\n",
    "print(len(vars_to_drop))\n",
    "vars_to_drop"
   ]
  },
  {
   "cell_type": "markdown",
   "metadata": {},
   "source": [
    "Most of our columns have null values. Let's take a quick look at the columns with null values to see if there are any that we can immediately remove based on their relevance to our purposes"
   ]
  },
  {
   "cell_type": "code",
   "execution_count": 30,
   "metadata": {
    "ExecuteTime": {
     "end_time": "2020-01-26T10:55:18.437660Z",
     "start_time": "2020-01-26T10:55:18.430373Z"
    },
    "scrolled": false
   },
   "outputs": [
    {
     "name": "stdout",
     "output_type": "stream",
     "text": [
      "P754 El lugar donde vivía ……. hace cinco años era:\n",
      "P752 El lugar donde vivía ……. hace 12 meses era:\n",
      "P6081S1 Número de orden de la persona\n",
      "P6083S1 Número de orden de la persona\n",
      "P6071 ¿El (la) cónyuge de  ... reside en este hogar?\n",
      "P6071S1 Número de orden de la persona\n",
      "P6150 ¿cuántos meses hace que ... No está afiliado o no cotiza a la seguridad social en salud?\n",
      "P6100 ¿a cual de los siguientes regímenes de seguridad social en salud está afiliado:\n",
      "P6110 ¿quién paga mensualmente por la afiliación de ...?\n",
      "P6120 ¿cuánto paga o cuánto le descuentan mensualmente? (si no sabe cuánto paga o cuanto le descuentan escriba 98)\n",
      "P6175 El establecimiento al que asiste ... ¿es oficial?\n",
      "P6220 ¿cuál es el título o diploma de mayor nivel educativo que usted ha recibido?\n",
      "P6269 ¿Se graduó usted de una escuela normal superior?\n",
      "CLASE Clase\n",
      "P6290 ¿qué hizo principalmente en las ultimas cuatro semanas ... Para conseguir un trabajo o instalar un negocio?\n",
      "P6250 Además de lo anterior, ¿... Realizó la semana pasada alguna actividad paga por una hora o más?\n",
      "P6260 Aunque.... no trabajó la semana pasada, por una hora o más en forma remunerada, ¿tenía durante esa semana algún trabajo o negocio por el que recibe ingresos\n",
      "P6270 ¿... Trabajó la semana pasada en un negocio por una hora o mas sin que le pagaran?\n",
      "P6280 En las ultimas 4 semanas ¿... Hizo alguna diligencia para conseguir un trabajo o instalar un negocio?\n",
      "P6300 ¿... Desea conseguir un trabajo remunerado o instalar un negocio?\n",
      "P6310 Aunque ... Desea trabajar, ¿por qué motivo principal no hizo diligencias en las ultimas 4 semanas?\n",
      "P6320 Durante los últimos 12 meses ¿... Trabajó por lo menos 2 semanas consecutivas?\n",
      "P6330 Después de su último empleo, ¿... Ha hecho alguna diligencia para conseguir trabajo o instalar un negocio?\n",
      "P6340 Durante los últimos 12 meses ¿... Ha hecho alguna diligencia para conseguir trabajo o instalar un negocio?\n",
      "P6350 ¿cuántos meses hace que ... Dejo de buscar trabajo por última vez? (solo acepta 1 a 12)\n",
      "P6351 Si le hubiera resultado algún trabajo a ..., ¿estaba disponible la semana pasada para empezar a trabajar?\n"
     ]
    }
   ],
   "source": [
    "# Print column name and column name description (from the survey meta data)\n",
    "for k in full_meta_dict:\n",
    "    if k in vars_to_drop:\n",
    "        print(k, full_meta_dict[k])"
   ]
  },
  {
   "cell_type": "code",
   "execution_count": null,
   "metadata": {
    "ExecuteTime": {
     "end_time": "2020-01-26T10:35:34.834233Z",
     "start_time": "2020-01-26T10:35:29.890Z"
    }
   },
   "outputs": [],
   "source": [
    "#df = df.dropna(axis=0, subset=['Charge_Per_Line'])"
   ]
  },
  {
   "cell_type": "code",
   "execution_count": 31,
   "metadata": {
    "ExecuteTime": {
     "end_time": "2020-01-27T16:23:31.777984Z",
     "start_time": "2020-01-27T16:23:31.702246Z"
    }
   },
   "outputs": [
    {
     "data": {
      "text/plain": [
       "['P754',\n",
       " 'P752',\n",
       " 'CLASE',\n",
       " 'P6071',\n",
       " 'P6071S1',\n",
       " 'P6081S1',\n",
       " 'P6083S1',\n",
       " 'P6100',\n",
       " 'P6110',\n",
       " 'P6120',\n",
       " 'P6150',\n",
       " 'P6175',\n",
       " 'P6220',\n",
       " 'P6269',\n",
       " 'P6250',\n",
       " 'P6260',\n",
       " 'P6270',\n",
       " 'P6280',\n",
       " 'P6290',\n",
       " 'P6300',\n",
       " 'P6310',\n",
       " 'P6320',\n",
       " 'P6330',\n",
       " 'P6340',\n",
       " 'P6350',\n",
       " 'P6351']"
      ]
     },
     "execution_count": 31,
     "metadata": {},
     "output_type": "execute_result"
    }
   ],
   "source": [
    "vars_to_drop"
   ]
  },
  {
   "cell_type": "code",
   "execution_count": 32,
   "metadata": {
    "ExecuteTime": {
     "end_time": "2020-01-27T16:23:39.485193Z",
     "start_time": "2020-01-27T16:23:39.426270Z"
    }
   },
   "outputs": [
    {
     "name": "stdout",
     "output_type": "stream",
     "text": [
      "<class 'pandas.core.frame.DataFrame'>\n",
      "Int64Index: 1304 entries, 0 to 1303\n",
      "Data columns (total 42 columns):\n",
      "Directorio     1304 non-null float64\n",
      "Secuencia_p    1304 non-null float64\n",
      "Orden          1304 non-null float64\n",
      "P6074          1304 non-null float64\n",
      "P756           1304 non-null float64\n",
      "P756S1         1304 non-null object\n",
      "P756S3         1165 non-null float64\n",
      "P755           1304 non-null float64\n",
      "P755S1         1304 non-null object\n",
      "P755S3         1198 non-null float64\n",
      "P753           1304 non-null float64\n",
      "P753S1         1304 non-null object\n",
      "P753S3         1304 non-null float64\n",
      "P1662          1304 non-null float64\n",
      "Mes            1304 non-null object\n",
      "AREA           1037 non-null object\n",
      "DPTO           1037 non-null object\n",
      "ESC            1037 non-null float64\n",
      "HOGAR          1037 non-null float64\n",
      "MES            1037 non-null object\n",
      "P6016          1037 non-null float64\n",
      "P6020          1037 non-null float64\n",
      "P6030S1        1035 non-null float64\n",
      "P6030S3        1035 non-null float64\n",
      "P6040          1037 non-null float64\n",
      "P6050          1037 non-null float64\n",
      "P6070          1037 non-null float64\n",
      "P6081          1037 non-null float64\n",
      "P6083          1037 non-null float64\n",
      "P6090          1037 non-null float64\n",
      "P6125          1037 non-null float64\n",
      "P6140          904 non-null float64\n",
      "P6160          1037 non-null float64\n",
      "P6170          1037 non-null float64\n",
      "P6210          1037 non-null float64\n",
      "P6210S1        1037 non-null float64\n",
      "FT             1037 non-null float64\n",
      "P6230          1037 non-null float64\n",
      "P6240          1037 non-null float64\n",
      "P6240S1        1037 non-null object\n",
      "P6290S1        1037 non-null object\n",
      "P6310S1        1037 non-null object\n",
      "dtypes: float64(32), object(10)\n",
      "memory usage: 438.1+ KB\n"
     ]
    }
   ],
   "source": [
    "ven_df2 = ven_df.drop(axis=0, columns=['P754',\n",
    " 'P752',\n",
    " 'CLASE',\n",
    " 'P6071',\n",
    " 'P6071S1',\n",
    " 'P6081S1',\n",
    " 'P6083S1',\n",
    " 'P6100',\n",
    " 'P6110',\n",
    " 'P6120',\n",
    " 'P6150',\n",
    " 'P6175',\n",
    " 'P6220',\n",
    " 'P6269',\n",
    " 'P6250',\n",
    " 'P6260',\n",
    " 'P6270',\n",
    " 'P6280',\n",
    " 'P6290',\n",
    " 'P6300',\n",
    " 'P6310',\n",
    " 'P6320',\n",
    " 'P6330',\n",
    " 'P6340',\n",
    " 'P6350',\n",
    " 'P6351'])\n",
    "ven_df2.info()"
   ]
  },
  {
   "cell_type": "code",
   "execution_count": 33,
   "metadata": {
    "ExecuteTime": {
     "end_time": "2020-01-27T16:24:17.774517Z",
     "start_time": "2020-01-27T16:24:17.761749Z"
    }
   },
   "outputs": [
    {
     "data": {
      "text/plain": [
       "29"
      ]
     },
     "execution_count": 33,
     "metadata": {},
     "output_type": "execute_result"
    }
   ],
   "source": [
    "# Make a list of column names with null values and print number of columns with nulls\n",
    "null_cols = ven_df2.columns[ven_df2.isna().any()].tolist()\n",
    "len(null_cols)"
   ]
  },
  {
   "cell_type": "code",
   "execution_count": 34,
   "metadata": {
    "ExecuteTime": {
     "end_time": "2020-01-27T16:24:42.424758Z",
     "start_time": "2020-01-27T16:24:42.416066Z"
    }
   },
   "outputs": [
    {
     "name": "stdout",
     "output_type": "stream",
     "text": [
      "P756S3 En otro país:\n",
      "P755S3 ¿Dónde vivía …. , hace cinco años?  En otro pais\n",
      "HOGAR Hogar\n",
      "P6016 Número de orden de la persona que proporciona la información\n",
      "P6020 Sexo\n",
      "P6030S1 Mes (mm):\n",
      "P6030S3 Año (aaaa):\n",
      "P6040 ¿cuántos años cumplidos tiene...? (si es menor de 1 año, escriba 00)\n",
      "P6050 ¿cuál es el parentesco de ... Con el jefe o jefa del hogar?\n",
      "P6070 Actualmente:\n",
      "P6081 ¿El padre de ... reside en este hogar?\n",
      "P6083 ¿La madre de ... reside en este hogar?\n",
      "P6090 ¿... Está afiliado, es cotizante o es beneficiario de alguna entidad de seguridad social en salud?\n",
      "P6140 ¿anteriormente estuvo ... Afiliado, fue cotizante o beneficiario de alguna entidad de seguridad social en salud?\n",
      "P6125 ¿en los últimos doce meses dejó de asistir al médico o no se hospitalizó, por no tener con que pagar estos servicios en la eps o ars?\n",
      "P6160 ¿sabe leer y escribir?\n",
      "P6170 ¿actualmente ... Asiste a la escuela, colegio o universidad?\n",
      "P6210 ¿cuál es el nivel educativo más alto alcanzado por ... Y el último año o grado aprobado en este nivel?\n",
      "P6210S1 Grado\n",
      "ESC Escolaridad\n",
      "MES Mes\n",
      "DPTO Departamento\n",
      "AREA Area\n",
      "P6290S1 ¿cuál?\n",
      "P6230 Registre el número de orden de la persona que suministra la información\n",
      "P6240 ¿en que actividad ocupó ... La mayor parte del tiempo la semana pasada?\n",
      "P6240S1 ¿cuál?\n",
      "P6310S1 Otro ¿cuál?\n",
      "FT Fuerza de trabajo\n"
     ]
    }
   ],
   "source": [
    "# Print column name and column name description (from the survey meta data)\n",
    "for k in full_meta_dict:\n",
    "    if k in null_cols:\n",
    "        print(k, full_meta_dict[k])"
   ]
  },
  {
   "cell_type": "code",
   "execution_count": 47,
   "metadata": {
    "ExecuteTime": {
     "end_time": "2020-01-27T16:37:33.653059Z",
     "start_time": "2020-01-27T16:37:33.642171Z"
    }
   },
   "outputs": [
    {
     "data": {
      "text/plain": [
       "Mujer     0.529412\n",
       "Hombre    0.470588\n",
       "Name: P6020, dtype: float64"
      ]
     },
     "execution_count": 47,
     "metadata": {},
     "output_type": "execute_result"
    }
   ],
   "source": [
    "ven_df2['P6020'].map(area_cg_meta.variable_value_labels['P6020']).value_counts(normalize=True)"
   ]
  },
  {
   "cell_type": "code",
   "execution_count": 48,
   "metadata": {
    "ExecuteTime": {
     "end_time": "2020-01-27T16:38:00.541929Z",
     "start_time": "2020-01-27T16:38:00.537025Z"
    }
   },
   "outputs": [
    {
     "data": {
      "text/plain": [
       "267"
      ]
     },
     "execution_count": 48,
     "metadata": {},
     "output_type": "execute_result"
    }
   ],
   "source": [
    "ven_df2['P6020'].isnull().sum()"
   ]
  },
  {
   "cell_type": "code",
   "execution_count": 50,
   "metadata": {
    "ExecuteTime": {
     "end_time": "2020-01-27T16:38:23.557007Z",
     "start_time": "2020-01-27T16:38:23.532155Z"
    }
   },
   "outputs": [
    {
     "data": {
      "text/html": [
       "<div>\n",
       "<style scoped>\n",
       "    .dataframe tbody tr th:only-of-type {\n",
       "        vertical-align: middle;\n",
       "    }\n",
       "\n",
       "    .dataframe tbody tr th {\n",
       "        vertical-align: top;\n",
       "    }\n",
       "\n",
       "    .dataframe thead th {\n",
       "        text-align: right;\n",
       "    }\n",
       "</style>\n",
       "<table border=\"1\" class=\"dataframe\">\n",
       "  <thead>\n",
       "    <tr style=\"text-align: right;\">\n",
       "      <th></th>\n",
       "      <th>Directorio</th>\n",
       "      <th>Secuencia_p</th>\n",
       "      <th>Orden</th>\n",
       "      <th>P6074</th>\n",
       "      <th>P756</th>\n",
       "      <th>P756S1</th>\n",
       "      <th>P756S3</th>\n",
       "      <th>P755</th>\n",
       "      <th>P755S1</th>\n",
       "      <th>P755S3</th>\n",
       "      <th>...</th>\n",
       "      <th>P6160</th>\n",
       "      <th>P6170</th>\n",
       "      <th>P6210</th>\n",
       "      <th>P6210S1</th>\n",
       "      <th>FT</th>\n",
       "      <th>P6230</th>\n",
       "      <th>P6240</th>\n",
       "      <th>P6240S1</th>\n",
       "      <th>P6290S1</th>\n",
       "      <th>P6310S1</th>\n",
       "    </tr>\n",
       "  </thead>\n",
       "  <tbody>\n",
       "    <tr>\n",
       "      <td>1299</td>\n",
       "      <td>4829558.0</td>\n",
       "      <td>1.0</td>\n",
       "      <td>1.0</td>\n",
       "      <td>2.0</td>\n",
       "      <td>3.0</td>\n",
       "      <td></td>\n",
       "      <td>3.0</td>\n",
       "      <td>4.0</td>\n",
       "      <td></td>\n",
       "      <td>3.0</td>\n",
       "      <td>...</td>\n",
       "      <td>1.0</td>\n",
       "      <td>2.0</td>\n",
       "      <td>5.0</td>\n",
       "      <td>11.0</td>\n",
       "      <td>1.0</td>\n",
       "      <td>1.0</td>\n",
       "      <td>1.0</td>\n",
       "      <td></td>\n",
       "      <td></td>\n",
       "      <td></td>\n",
       "    </tr>\n",
       "    <tr>\n",
       "      <td>1300</td>\n",
       "      <td>4829858.0</td>\n",
       "      <td>1.0</td>\n",
       "      <td>4.0</td>\n",
       "      <td>2.0</td>\n",
       "      <td>3.0</td>\n",
       "      <td></td>\n",
       "      <td>3.0</td>\n",
       "      <td>4.0</td>\n",
       "      <td></td>\n",
       "      <td>3.0</td>\n",
       "      <td>...</td>\n",
       "      <td>1.0</td>\n",
       "      <td>2.0</td>\n",
       "      <td>3.0</td>\n",
       "      <td>3.0</td>\n",
       "      <td>1.0</td>\n",
       "      <td>4.0</td>\n",
       "      <td>4.0</td>\n",
       "      <td></td>\n",
       "      <td></td>\n",
       "      <td></td>\n",
       "    </tr>\n",
       "    <tr>\n",
       "      <td>1301</td>\n",
       "      <td>4829858.0</td>\n",
       "      <td>1.0</td>\n",
       "      <td>5.0</td>\n",
       "      <td>2.0</td>\n",
       "      <td>3.0</td>\n",
       "      <td></td>\n",
       "      <td>3.0</td>\n",
       "      <td>4.0</td>\n",
       "      <td></td>\n",
       "      <td>3.0</td>\n",
       "      <td>...</td>\n",
       "      <td>1.0</td>\n",
       "      <td>2.0</td>\n",
       "      <td>4.0</td>\n",
       "      <td>7.0</td>\n",
       "      <td>1.0</td>\n",
       "      <td>5.0</td>\n",
       "      <td>4.0</td>\n",
       "      <td></td>\n",
       "      <td></td>\n",
       "      <td></td>\n",
       "    </tr>\n",
       "    <tr>\n",
       "      <td>1302</td>\n",
       "      <td>4829860.0</td>\n",
       "      <td>1.0</td>\n",
       "      <td>2.0</td>\n",
       "      <td>2.0</td>\n",
       "      <td>3.0</td>\n",
       "      <td></td>\n",
       "      <td>3.0</td>\n",
       "      <td>4.0</td>\n",
       "      <td></td>\n",
       "      <td>3.0</td>\n",
       "      <td>...</td>\n",
       "      <td>1.0</td>\n",
       "      <td>2.0</td>\n",
       "      <td>6.0</td>\n",
       "      <td>1.0</td>\n",
       "      <td>1.0</td>\n",
       "      <td>2.0</td>\n",
       "      <td>4.0</td>\n",
       "      <td></td>\n",
       "      <td></td>\n",
       "      <td></td>\n",
       "    </tr>\n",
       "    <tr>\n",
       "      <td>1303</td>\n",
       "      <td>4829860.0</td>\n",
       "      <td>1.0</td>\n",
       "      <td>2.0</td>\n",
       "      <td>2.0</td>\n",
       "      <td>3.0</td>\n",
       "      <td></td>\n",
       "      <td>3.0</td>\n",
       "      <td>4.0</td>\n",
       "      <td></td>\n",
       "      <td>3.0</td>\n",
       "      <td>...</td>\n",
       "      <td>1.0</td>\n",
       "      <td>2.0</td>\n",
       "      <td>6.0</td>\n",
       "      <td>1.0</td>\n",
       "      <td>1.0</td>\n",
       "      <td>2.0</td>\n",
       "      <td>4.0</td>\n",
       "      <td></td>\n",
       "      <td></td>\n",
       "      <td></td>\n",
       "    </tr>\n",
       "  </tbody>\n",
       "</table>\n",
       "<p>5 rows × 42 columns</p>\n",
       "</div>"
      ],
      "text/plain": [
       "      Directorio  Secuencia_p  Orden  P6074  P756 P756S1  P756S3  P755 P755S1  \\\n",
       "1299   4829558.0          1.0    1.0    2.0   3.0            3.0   4.0          \n",
       "1300   4829858.0          1.0    4.0    2.0   3.0            3.0   4.0          \n",
       "1301   4829858.0          1.0    5.0    2.0   3.0            3.0   4.0          \n",
       "1302   4829860.0          1.0    2.0    2.0   3.0            3.0   4.0          \n",
       "1303   4829860.0          1.0    2.0    2.0   3.0            3.0   4.0          \n",
       "\n",
       "      P755S3  ...  P6160 P6170  P6210  P6210S1   FT P6230 P6240  P6240S1  \\\n",
       "1299     3.0  ...    1.0   2.0    5.0     11.0  1.0   1.0   1.0            \n",
       "1300     3.0  ...    1.0   2.0    3.0      3.0  1.0   4.0   4.0            \n",
       "1301     3.0  ...    1.0   2.0    4.0      7.0  1.0   5.0   4.0            \n",
       "1302     3.0  ...    1.0   2.0    6.0      1.0  1.0   2.0   4.0            \n",
       "1303     3.0  ...    1.0   2.0    6.0      1.0  1.0   2.0   4.0            \n",
       "\n",
       "      P6290S1 P6310S1  \n",
       "1299                   \n",
       "1300                   \n",
       "1301                   \n",
       "1302                   \n",
       "1303                   \n",
       "\n",
       "[5 rows x 42 columns]"
      ]
     },
     "execution_count": 50,
     "metadata": {},
     "output_type": "execute_result"
    }
   ],
   "source": [
    "ven_df2.tail()"
   ]
  },
  {
   "cell_type": "code",
   "execution_count": 51,
   "metadata": {
    "ExecuteTime": {
     "end_time": "2020-01-27T16:45:00.276853Z",
     "start_time": "2020-01-27T16:45:00.256185Z"
    }
   },
   "outputs": [
    {
     "data": {
      "text/plain": [
       "0        0\n",
       "1        0\n",
       "2       27\n",
       "3        2\n",
       "4        2\n",
       "        ..\n",
       "1299     0\n",
       "1300     0\n",
       "1301     0\n",
       "1302     1\n",
       "1303     1\n",
       "Length: 1304, dtype: int64"
      ]
     },
     "execution_count": 51,
     "metadata": {},
     "output_type": "execute_result"
    }
   ],
   "source": [
    "ven_df2.isnull().sum(axis=1)"
   ]
  },
  {
   "cell_type": "markdown",
   "metadata": {},
   "source": [
    "## Relabel"
   ]
  },
  {
   "cell_type": "code",
   "execution_count": 43,
   "metadata": {
    "ExecuteTime": {
     "end_time": "2020-01-27T16:32:18.559183Z",
     "start_time": "2020-01-27T16:32:18.538646Z"
    },
    "scrolled": true
   },
   "outputs": [
    {
     "data": {
      "text/plain": [
       "Acompañar a otros miembros del  hogar                           0.468085\n",
       "Trabajo                                                         0.288754\n",
       "Amenaza o riesgo para su vida o integridad física por violen    0.118541\n",
       "Conformación de un nuevo hogar                                  0.043313\n",
       "Estudio                                                         0.031155\n",
       "Amenaza o riesgo para su vida o integridad física ocasionada    0.029635\n",
       "Salud                                                           0.018997\n",
       "Motivos culturales asociados a grupos étnicos                   0.001520\n",
       "Name: P1662, dtype: float64"
      ]
     },
     "execution_count": 43,
     "metadata": {},
     "output_type": "execute_result"
    }
   ],
   "source": [
    "# Our Target Variable\n",
    "mm_df['P1662'].map(mm_meta.variable_value_labels['P1662']).value_counts(normalize=True)"
   ]
  },
  {
   "cell_type": "code",
   "execution_count": null,
   "metadata": {},
   "outputs": [],
   "source": []
  },
  {
   "cell_type": "code",
   "execution_count": null,
   "metadata": {},
   "outputs": [],
   "source": []
  },
  {
   "cell_type": "markdown",
   "metadata": {},
   "source": [
    "# Explore\n"
   ]
  },
  {
   "cell_type": "markdown",
   "metadata": {},
   "source": [
    "## Overview of Survey Dataset Modules:"
   ]
  },
  {
   "cell_type": "markdown",
   "metadata": {},
   "source": [
    "The following are the most important variables of the statistical operation:\n",
    "\n",
    "• Housing: Type of housing and physical characteristics (material of walls and floors).\n",
    "\n",
    "• Household data: Connection to public, private - communal services, value paid for consumption and quality thereof, connection and use of sanitary service, obtaining water for consumption, place and energy to prepare food, disposal of garbage, type of home ownership, home ownership and cell phone ownership.\n",
    "\n",
    "• Registration of persons: Identification of the habitual resident.\n",
    "\n",
    "• General characteristics: Sex, age, kinship, marital status.\n",
    "\n",
    "• Social security in health: Coverage of the General System of Social Security in Health -SGSSS- by regimes, person who pays membership and coverage.\n",
    "\n",
    "• Education: literacy, school attendance, maximum educational level reached and last year approved or in progress and degrees or diplomas obtained.\n",
    "\n",
    "• Workforce: PEA (employed and unemployed)\n",
    "\n",
    "• Employed: Main employment (branch of activity, occupation, type of contract, access to benefits, time worked and occupational position).\n",
    "\n",
    "• Employees (means of searching, monthly remuneration, overtime, payments in kind, subsidies, bonuses and bonuses).\n",
    "\n",
    "• Independent (forms of work, commercial register, accounting, profit or net fees).\n",
    "\n",
    "• Salaried and independent employees (duration of employment, normal and effective hours worked, fees, company size, workplace, Pension affiliation, family compensation fund and ARP, duration between previous and current employment).\n",
    "\n",
    "• Secondary employment (hours worked, occupational position, monthly remuneration, company size and workplace)\n",
    "\n",
    "• Companies with inadequate hours and situations of inappropriate employment (by skills and income).\n",
    "\n",
    "• Quality of employment\n",
    "\n",
    "• Unemployed: Duration of job search, work history, income and social security.\n",
    "\n",
    "• Inactive: work history, income and social security.\n",
    "\n",
    "• Fertility.\n",
    "\n",
    "• Other activities.\n",
    "\n",
    "• Non-labor income."
   ]
  },
  {
   "cell_type": "markdown",
   "metadata": {},
   "source": [
    "# Model"
   ]
  },
  {
   "cell_type": "code",
   "execution_count": null,
   "metadata": {},
   "outputs": [],
   "source": []
  },
  {
   "cell_type": "code",
   "execution_count": null,
   "metadata": {},
   "outputs": [],
   "source": []
  },
  {
   "cell_type": "markdown",
   "metadata": {},
   "source": [
    "# Interpret"
   ]
  },
  {
   "cell_type": "code",
   "execution_count": null,
   "metadata": {},
   "outputs": [],
   "source": []
  },
  {
   "cell_type": "code",
   "execution_count": null,
   "metadata": {},
   "outputs": [],
   "source": []
  },
  {
   "cell_type": "markdown",
   "metadata": {},
   "source": [
    "## Summary of Findings:"
   ]
  },
  {
   "cell_type": "code",
   "execution_count": null,
   "metadata": {},
   "outputs": [],
   "source": []
  },
  {
   "cell_type": "markdown",
   "metadata": {},
   "source": [
    "## Considerations for Further Analysis"
   ]
  },
  {
   "cell_type": "markdown",
   "metadata": {},
   "source": [
    "- **Labeled data on propensity for return** could help policymakers understand the kinds of short, medium, and long-term interventions that are required based on a better understanding of the factors and likelihood of return for migrants in Colombia.\n",
    "- **Analysis of how this classification performs when integrating data on Venezuelan migrants in other countries** (Ecuador, Peru, Chile, Brazil, Spain, Portugal, and the U.S.A.)"
   ]
  },
  {
   "cell_type": "code",
   "execution_count": null,
   "metadata": {},
   "outputs": [],
   "source": []
  }
 ],
 "metadata": {
  "kernelspec": {
   "display_name": "learn-env",
   "language": "python",
   "name": "learn-env"
  },
  "language_info": {
   "codemirror_mode": {
    "name": "ipython",
    "version": 3
   },
   "file_extension": ".py",
   "mimetype": "text/x-python",
   "name": "python",
   "nbconvert_exporter": "python",
   "pygments_lexer": "ipython3",
   "version": "3.6.9"
  },
  "toc": {
   "base_numbering": 1,
   "nav_menu": {},
   "number_sections": true,
   "sideBar": true,
   "skip_h1_title": false,
   "title_cell": "Table of Contents",
   "title_sidebar": "Contents",
   "toc_cell": false,
   "toc_position": {
    "height": "calc(100% - 180px)",
    "left": "10px",
    "top": "150px",
    "width": "270px"
   },
   "toc_section_display": true,
   "toc_window_display": true
  },
  "varInspector": {
   "cols": {
    "lenName": 16,
    "lenType": 16,
    "lenVar": 40
   },
   "kernels_config": {
    "python": {
     "delete_cmd_postfix": "",
     "delete_cmd_prefix": "del ",
     "library": "var_list.py",
     "varRefreshCmd": "print(var_dic_list())"
    },
    "r": {
     "delete_cmd_postfix": ") ",
     "delete_cmd_prefix": "rm(",
     "library": "var_list.r",
     "varRefreshCmd": "cat(var_dic_list()) "
    }
   },
   "position": {
    "height": "144px",
    "left": "928px",
    "right": "20px",
    "top": "121px",
    "width": "350px"
   },
   "types_to_exclude": [
    "module",
    "function",
    "builtin_function_or_method",
    "instance",
    "_Feature"
   ],
   "window_display": true
  }
 },
 "nbformat": 4,
 "nbformat_minor": 2
}
